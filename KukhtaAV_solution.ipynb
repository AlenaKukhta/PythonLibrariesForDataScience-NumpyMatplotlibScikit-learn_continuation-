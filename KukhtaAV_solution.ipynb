{
 "cells": [
  {
   "cell_type": "markdown",
   "metadata": {
    "_cell_guid": "b1076dfc-b9ad-4769-8c92-a6c4dae69d19",
    "_uuid": "8f2839f25d086af736a60e9eeb907d3b93b6e0e5",
    "papermill": {
     "duration": 0.047825,
     "end_time": "2021-03-04T15:42:42.919649",
     "exception": false,
     "start_time": "2021-03-04T15:42:42.871824",
     "status": "completed"
    },
    "tags": []
   },
   "source": [
    "# Курсовой проект по курсу \"Библиотеки Python для Data Science: продолжение\""
   ]
  },
  {
   "cell_type": "markdown",
   "metadata": {
    "papermill": {
     "duration": 0.045008,
     "end_time": "2021-03-04T15:42:43.009105",
     "exception": false,
     "start_time": "2021-03-04T15:42:42.964097",
     "status": "completed"
    },
    "tags": []
   },
   "source": [
    "### Задача\n",
    "\n",
    "Требуется, на основании имеющихся данных о клиентах банка, построить модель, используя обучающий датасет, для прогнозирования невыполнения долговых обязательств по текущему кредиту. Выполнить прогноз для примеров из тестового датасета.\n",
    "\n",
    "### Наименование файлов с данными\n",
    "\n",
    "course_project_train.csv - обучающий датасет\n",
    "\n",
    "course_project_test.csv - тестовый датасет\n",
    "\n",
    "### Целевая переменная\n",
    "\n",
    "Credit Default - факт невыполнения кредитных обязательств\n",
    "\n",
    "### Метрика качества\n",
    "\n",
    "F1-score (sklearn.metrics.f1_score)\n",
    "\n",
    "### Требования к решению\n",
    "\n",
    "*Целевая метрика*\n",
    "\n",
    "- F1 > 0.5\n",
    "- Метрика оценивается по качеству прогноза для главного класса (1 - просрочка по кредиту)\n",
    "\n",
    "*Решение содержит*\n",
    "\n",
    "1) Тетрадку Jupyter Notebook KukhtaAV_solution.ipynb\n",
    "\n",
    "2) Файл CSV с прогнозами целевой переменной для тестового датасета KukhtaAV_predictions.csv\n",
    "\n",
    "3) Ссылка на ноутбук в kaggle - https://www.kaggle.com/alena77/python-ds\n",
    "\n",
    "4) Ник на kaggle - https://www.kaggle.com/alena77\n",
    "\n",
    "*Рекомендации для файла с кодом (ipynb)*\n",
    "\n",
    "1) Файл должен содержать заголовки и комментарии (markdown)\n",
    "\n",
    "2) Повторяющиеся операции лучше оформлять в виде функций\n",
    "\n",
    "3) Не делать вывод большого количества строк таблиц (5-10 достаточно)\n",
    "\n",
    "4) По возможности добавлять графики, описывающие данные (около 3-5)\n",
    "\n",
    "5) Добавлять только лучшую модель, то есть не включать в код все варианты решения проекта\n",
    "\n",
    "6) Скрипт проекта должен отрабатывать от начала и до конца (от загрузки данных до выгрузки предсказаний)\n",
    "\n",
    "7) Весь проект должен быть в одном скрипте (файл ipynb).\n",
    "\n",
    "8) Допускается применение библиотек Python и моделей машинного обучения, которые были в данном курсе.\n",
    "\n",
    "**Сроки сдачи**\n",
    "\n",
    "Cдать проект нужно до 04.03.2021, 20:00. \n",
    "\n",
    "Оценки работ, сданных до дедлайна, будут представлены в виде рейтинга, ранжированного по заданной метрике качества. \n",
    "\n",
    "Проекты, сданные после дедлайна или сданные повторно, не попадают в рейтинг, но можно будет узнать результат."
   ]
  },
  {
   "cell_type": "markdown",
   "metadata": {
    "papermill": {
     "duration": 0.044062,
     "end_time": "2021-03-04T15:42:43.097466",
     "exception": false,
     "start_time": "2021-03-04T15:42:43.053404",
     "status": "completed"
    },
    "tags": []
   },
   "source": [
    "### Примерное описание этапов выполнения курсового проекта<a class=\"anchor\" id=\"course_project_steps\"></a>\n",
    "\n",
    "**Построение модели классификации**\n",
    "1. Обзор обучающего датасета +\n",
    "2. Обработка выбросов +\n",
    "3. Обработка пропусков +\n",
    "4. Анализ данных\n",
    "5. Отбор признаков\n",
    "6. Балансировка классов\n",
    "7. Подбор моделей, получение бейзлана\n",
    "8. Выбор наилучшей модели, настройка гиперпараметров\n",
    "9. Проверка качества, борьба с переобучением\n",
    "10. Интерпретация результатов\n",
    "\n",
    "**Прогнозирование на тестовом датасете**\n",
    "1. Выполнить для тестового датасета те же этапы обработки и постронияния признаков\n",
    "2. Спрогнозировать целевую переменную, используя модель, построенную на обучающем датасете\n",
    "3. Прогнозы должны быть для всех примеров из тестового датасета (для всех строк)\n",
    "4. Соблюдать исходный порядок примеров из тестового датасета"
   ]
  },
  {
   "cell_type": "markdown",
   "metadata": {
    "papermill": {
     "duration": 0.044212,
     "end_time": "2021-03-04T15:42:43.186785",
     "exception": false,
     "start_time": "2021-03-04T15:42:43.142573",
     "status": "completed"
    },
    "tags": []
   },
   "source": [
    "### Обзор данных<a class=\"anchor\" id=\"course_project_review\"></a>\n",
    "\n",
    "**Описание датасета**\n",
    "\n",
    "* **Home Ownership** - домовладение\n",
    "* **Annual Income** - годовой доход\n",
    "* **Years in current job** - количество лет на текущем месте работы\n",
    "* **Tax Liens** - налоговые обременения\n",
    "* **Number of Open Accounts** - количество открытых счетов\n",
    "* **Years of Credit History** - количество лет кредитной истории\n",
    "* **Maximum Open Credit** - наибольший открытый кредит\n",
    "* **Number of Credit Problems** - количество проблем с кредитом\n",
    "* **Months since last delinquent** - количество месяцев с последней просрочки платежа\n",
    "* **Bankruptcies** - банкротства\n",
    "* **Purpose** - цель кредита\n",
    "* **Term** - срок кредита\n",
    "* **Current Loan Amount** - текущая сумма кредита\n",
    "* **Current Credit Balance** - текущий кредитный баланс\n",
    "* **Monthly Debt** - ежемесячный долг\n",
    "* **Credit Default** - факт невыполнения кредитных обязательств (0 - погашен вовремя, 1 - просрочка)"
   ]
  },
  {
   "cell_type": "markdown",
   "metadata": {
    "papermill": {
     "duration": 0.043408,
     "end_time": "2021-03-04T15:42:43.274204",
     "exception": false,
     "start_time": "2021-03-04T15:42:43.230796",
     "status": "completed"
    },
    "tags": []
   },
   "source": [
    "## Реализация курсового проекта\n",
    "\n",
    "**Импорт библиотек**"
   ]
  },
  {
   "cell_type": "code",
   "execution_count": 1,
   "metadata": {
    "execution": {
     "iopub.execute_input": "2021-03-04T15:42:43.380142Z",
     "iopub.status.busy": "2021-03-04T15:42:43.379242Z",
     "iopub.status.idle": "2021-03-04T15:42:46.158657Z",
     "shell.execute_reply": "2021-03-04T15:42:46.157772Z"
    },
    "papermill": {
     "duration": 2.840908,
     "end_time": "2021-03-04T15:42:46.158893",
     "exception": false,
     "start_time": "2021-03-04T15:42:43.317985",
     "status": "completed"
    },
    "tags": []
   },
   "outputs": [
    {
     "name": "stdout",
     "output_type": "stream",
     "text": [
      "/kaggle/input/654pds2courseproject/course_project_train.csv\n",
      "/kaggle/input/654pds2courseproject/course_project_test.csv\n"
     ]
    },
    {
     "data": {
      "text/html": [
       "<style type='text/css'>\n",
       ".datatable table.frame { margin-bottom: 0; }\n",
       ".datatable table.frame thead { border-bottom: none; }\n",
       ".datatable table.frame tr.coltypes td {  color: #FFFFFF;  line-height: 6px;  padding: 0 0.5em;}\n",
       ".datatable .bool    { background: #DDDD99; }\n",
       ".datatable .object  { background: #565656; }\n",
       ".datatable .int     { background: #5D9E5D; }\n",
       ".datatable .float   { background: #4040CC; }\n",
       ".datatable .str     { background: #CC4040; }\n",
       ".datatable .row_index {  background: var(--jp-border-color3);  border-right: 1px solid var(--jp-border-color0);  color: var(--jp-ui-font-color3);  font-size: 9px;}\n",
       ".datatable .frame tr.coltypes .row_index {  background: var(--jp-border-color0);}\n",
       ".datatable th:nth-child(2) { padding-left: 12px; }\n",
       ".datatable .hellipsis {  color: var(--jp-cell-editor-border-color);}\n",
       ".datatable .vellipsis {  background: var(--jp-layout-color0);  color: var(--jp-cell-editor-border-color);}\n",
       ".datatable .na {  color: var(--jp-cell-editor-border-color);  font-size: 80%;}\n",
       ".datatable .footer { font-size: 9px; }\n",
       ".datatable .frame_dimensions {  background: var(--jp-border-color3);  border-top: 1px solid var(--jp-border-color0);  color: var(--jp-ui-font-color3);  display: inline-block;  opacity: 0.6;  padding: 1px 10px 1px 5px;}\n",
       "</style>\n"
      ],
      "text/plain": [
       "<IPython.core.display.HTML object>"
      ]
     },
     "metadata": {},
     "output_type": "display_data"
    }
   ],
   "source": [
    "# This Python 3 environment comes with many helpful analytics libraries installed\n",
    "# It is defined by the kaggle/python Docker image: https://github.com/kaggle/docker-python\n",
    "# For example, here's several helpful packages to load\n",
    "\n",
    "import numpy as np # linear algebra\n",
    "import pandas as pd # data processing, CSV file I/O (e.g. pd.read_csv)\n",
    "\n",
    "# Input data files are available in the read-only \"../input/\" directory\n",
    "# For example, running this (by clicking run or pressing Shift+Enter) will list all files under the input directory\n",
    "\n",
    "import os\n",
    "for dirname, _, filenames in os.walk('/kaggle/input'):\n",
    "    for filename in filenames:\n",
    "        print(os.path.join(dirname, filename))\n",
    "\n",
    "# You can write up to 20GB to the current directory (/kaggle/working/) that gets preserved as output when you create a version using \"Save & Run All\" \n",
    "# You can also write temporary files to /kaggle/temp/, but they won't be saved outside of the current session\n",
    "\n",
    "import matplotlib\n",
    "import matplotlib.pyplot as plt\n",
    "import seaborn as sns\n",
    "import pickle\n",
    "import xgboost as xgb\n",
    "import catboost as catb\n",
    "import lightgbm as lgbm\n",
    "import scipy.stats as stats\n",
    "\n",
    "\n",
    "from sklearn.model_selection import train_test_split, ShuffleSplit, cross_val_score, learning_curve\n",
    "from sklearn.metrics import classification_report, f1_score, precision_score, recall_score\n",
    "from sklearn.model_selection import StratifiedKFold, GridSearchCV, RandomizedSearchCV\n",
    "from sklearn.ensemble import RandomForestClassifier\n",
    "\n",
    "from sklearn.linear_model import LogisticRegression, LogisticRegressionCV\n",
    "from sklearn.svm import SVC\n",
    "\n",
    "from sklearn.preprocessing import StandardScaler, MinMaxScaler\n",
    "from sklearn.model_selection import train_test_split, ShuffleSplit, cross_val_score, learning_curve\n",
    "from sklearn.model_selection import KFold, GridSearchCV, RandomizedSearchCV\n",
    "\n",
    "from sklearn.neighbors import KNeighborsClassifier\n",
    "\n",
    "from xgboost import XGBClassifier\n",
    "from catboost import CatBoostClassifier, CatBoostRegressor, Pool\n",
    "\n",
    "from pathlib import Path\n",
    "\n",
    "from scipy.stats import shapiro\n",
    "from scipy.stats import probplot\n",
    "from scipy.stats import mannwhitneyu\n",
    "from scipy.stats import chi2_contingency\n",
    "\n",
    "import statsmodels.api as sm\n",
    "from statsmodels.formula.api import ols\n",
    "\n",
    "import warnings\n",
    "warnings.simplefilter('ignore')\n",
    "warnings.filterwarnings('ignore')\n",
    "\n",
    "%matplotlib inline"
   ]
  },
  {
   "cell_type": "markdown",
   "metadata": {
    "papermill": {
     "duration": 0.044712,
     "end_time": "2021-03-04T15:42:46.249819",
     "exception": false,
     "start_time": "2021-03-04T15:42:46.205107",
     "status": "completed"
    },
    "tags": []
   },
   "source": [
    "**Загрузка данных**"
   ]
  },
  {
   "cell_type": "code",
   "execution_count": 2,
   "metadata": {
    "execution": {
     "iopub.execute_input": "2021-03-04T15:42:46.348986Z",
     "iopub.status.busy": "2021-03-04T15:42:46.348155Z",
     "iopub.status.idle": "2021-03-04T15:42:46.416859Z",
     "shell.execute_reply": "2021-03-04T15:42:46.415403Z"
    },
    "papermill": {
     "duration": 0.121525,
     "end_time": "2021-03-04T15:42:46.417047",
     "exception": false,
     "start_time": "2021-03-04T15:42:46.295522",
     "status": "completed"
    },
    "tags": []
   },
   "outputs": [],
   "source": [
    "TRAIN_DATASET_PATH = '/kaggle/input/654pds2courseproject/course_project_train.csv'\n",
    "TEST_DATASET_PATH = '/kaggle/input/654pds2courseproject/course_project_test.csv'\n",
    "\n",
    "df_train = pd.read_csv(TRAIN_DATASET_PATH)\n",
    "df_test = pd.read_csv(TEST_DATASET_PATH)"
   ]
  },
  {
   "cell_type": "markdown",
   "metadata": {
    "papermill": {
     "duration": 0.053899,
     "end_time": "2021-03-04T15:42:46.527142",
     "exception": false,
     "start_time": "2021-03-04T15:42:46.473243",
     "status": "completed"
    },
    "tags": []
   },
   "source": [
    "**Целевая переменная**"
   ]
  },
  {
   "cell_type": "code",
   "execution_count": 3,
   "metadata": {
    "execution": {
     "iopub.execute_input": "2021-03-04T15:42:46.649229Z",
     "iopub.status.busy": "2021-03-04T15:42:46.648409Z",
     "iopub.status.idle": "2021-03-04T15:42:46.653365Z",
     "shell.execute_reply": "2021-03-04T15:42:46.653939Z"
    },
    "papermill": {
     "duration": 0.061405,
     "end_time": "2021-03-04T15:42:46.654159",
     "exception": false,
     "start_time": "2021-03-04T15:42:46.592754",
     "status": "completed"
    },
    "tags": []
   },
   "outputs": [],
   "source": [
    "TARGET_NAME = 'Credit Default'\n",
    "BASE_FEATURE_NAMES = df_train.columns.drop(TARGET_NAME).tolist()\n",
    "#NEW_FEATURE_NAMES = ['']\n",
    "NUMB_FEATURE_NAMES = ['Annual Income','Tax Liens','Number of Open Accounts','Years of Credit History',\n",
    "                     'Maximum Open Credit','Number of Credit Problems','Months since last delinquent',\n",
    "                     'Bankruptcies','Current Loan Amount','Current Credit Balance','Monthly Debt','Credit Score']\n",
    "CAT_FEATURE_NAMES = ['Years in current job','Home Ownership','Purpose','Term']"
   ]
  },
  {
   "cell_type": "code",
   "execution_count": 4,
   "metadata": {
    "execution": {
     "iopub.execute_input": "2021-03-04T15:42:46.754630Z",
     "iopub.status.busy": "2021-03-04T15:42:46.753948Z",
     "iopub.status.idle": "2021-03-04T15:42:46.772872Z",
     "shell.execute_reply": "2021-03-04T15:42:46.773389Z"
    },
    "papermill": {
     "duration": 0.068502,
     "end_time": "2021-03-04T15:42:46.773581",
     "exception": false,
     "start_time": "2021-03-04T15:42:46.705079",
     "status": "completed"
    },
    "tags": []
   },
   "outputs": [
    {
     "name": "stdout",
     "output_type": "stream",
     "text": [
      "<class 'pandas.core.frame.DataFrame'>\n",
      "RangeIndex: 7500 entries, 0 to 7499\n",
      "Data columns (total 1 columns):\n",
      " #   Column          Non-Null Count  Dtype\n",
      "---  ------          --------------  -----\n",
      " 0   Credit Default  7500 non-null   int64\n",
      "dtypes: int64(1)\n",
      "memory usage: 58.7 KB\n"
     ]
    }
   ],
   "source": [
    "y = df_train[[TARGET_NAME]]\n",
    "y.info()"
   ]
  },
  {
   "cell_type": "markdown",
   "metadata": {
    "papermill": {
     "duration": 0.046142,
     "end_time": "2021-03-04T15:42:46.866259",
     "exception": false,
     "start_time": "2021-03-04T15:42:46.820117",
     "status": "completed"
    },
    "tags": []
   },
   "source": [
    "Распределение значений целевой переменной"
   ]
  },
  {
   "cell_type": "code",
   "execution_count": 5,
   "metadata": {
    "execution": {
     "iopub.execute_input": "2021-03-04T15:42:46.966282Z",
     "iopub.status.busy": "2021-03-04T15:42:46.965548Z",
     "iopub.status.idle": "2021-03-04T15:42:47.120513Z",
     "shell.execute_reply": "2021-03-04T15:42:47.119874Z"
    },
    "papermill": {
     "duration": 0.20792,
     "end_time": "2021-03-04T15:42:47.120721",
     "exception": false,
     "start_time": "2021-03-04T15:42:46.912801",
     "status": "completed"
    },
    "tags": []
   },
   "outputs": [
    {
     "data": {
      "image/png": "[encoded data removed]",
      "text/plain": [
       "<Figure size 576x360 with 1 Axes>"
      ]
     },
     "metadata": {
      "needs_background": "light"
     },
     "output_type": "display_data"
    }
   ],
   "source": [
    "plt.figure(figsize=(8, 5))\n",
    "\n",
    "sns.countplot(x=TARGET_NAME, data=df_train)\n",
    "\n",
    "plt.title('Target variable distribution')\n",
    "plt.show()"
   ]
  },
  {
   "cell_type": "markdown",
   "metadata": {
    "papermill": {
     "duration": 0.04672,
     "end_time": "2021-03-04T15:42:47.215444",
     "exception": false,
     "start_time": "2021-03-04T15:42:47.168724",
     "status": "completed"
    },
    "tags": []
   },
   "source": [
    "**Обзор обучающего датасета**\n",
    "\n",
    "*Описание датасета*\n",
    "\n",
    "* **Home Ownership** - домовладение\n",
    "* **Annual Income** - годовой доход\n",
    "* **Years in current job** - количество лет на текущем месте работы\n",
    "* **Tax Liens** - налоговые обременения\n",
    "* **Number of Open Accounts** - количество открытых счетов\n",
    "* **Years of Credit History** - количество лет кредитной истории\n",
    "* **Maximum Open Credit** - наибольший открытый кредит\n",
    "* **Number of Credit Problems** - количество проблем с кредитом\n",
    "* **Months since last delinquent** - количество месяцев с последней просрочки платежа\n",
    "* **Bankruptcies** - банкротства\n",
    "* **Purpose** - цель кредита\n",
    "* **Term** - срок кредита\n",
    "* **Current Loan Amount** - текущая сумма кредита\n",
    "* **Current Credit Balance** - текущий кредитный баланс\n",
    "* **Monthly Debt** - ежемесячный долг\n",
    "* **Credit Default** - факт невыполнения кредитных обязательств (0 - погашен вовремя, 1 - просрочка)"
   ]
  },
  {
   "cell_type": "code",
   "execution_count": 6,
   "metadata": {
    "execution": {
     "iopub.execute_input": "2021-03-04T15:42:47.315393Z",
     "iopub.status.busy": "2021-03-04T15:42:47.314555Z",
     "iopub.status.idle": "2021-03-04T15:42:47.354124Z",
     "shell.execute_reply": "2021-03-04T15:42:47.354672Z"
    },
    "papermill": {
     "duration": 0.092408,
     "end_time": "2021-03-04T15:42:47.354859",
     "exception": false,
     "start_time": "2021-03-04T15:42:47.262451",
     "status": "completed"
    },
    "tags": []
   },
   "outputs": [
    {
     "data": {
      "text/html": [
       "<div>\n",
       "<style scoped>\n",
       "    .dataframe tbody tr th:only-of-type {\n",
       "        vertical-align: middle;\n",
       "    }\n",
       "\n",
       "    .dataframe tbody tr th {\n",
       "        vertical-align: top;\n",
       "    }\n",
       "\n",
       "    .dataframe thead th {\n",
       "        text-align: right;\n",
       "    }\n",
       "</style>\n",
       "<table border=\"1\" class=\"dataframe\">\n",
       "  <thead>\n",
       "    <tr style=\"text-align: right;\">\n",
       "      <th></th>\n",
       "      <th>Home Ownership</th>\n",
       "      <th>Annual Income</th>\n",
       "      <th>Years in current job</th>\n",
       "      <th>Tax Liens</th>\n",
       "      <th>Number of Open Accounts</th>\n",
       "      <th>Years of Credit History</th>\n",
       "      <th>Maximum Open Credit</th>\n",
       "      <th>Number of Credit Problems</th>\n",
       "      <th>Months since last delinquent</th>\n",
       "      <th>Bankruptcies</th>\n",
       "      <th>Purpose</th>\n",
       "      <th>Term</th>\n",
       "      <th>Current Loan Amount</th>\n",
       "      <th>Current Credit Balance</th>\n",
       "      <th>Monthly Debt</th>\n",
       "      <th>Credit Score</th>\n",
       "      <th>Credit Default</th>\n",
       "    </tr>\n",
       "  </thead>\n",
       "  <tbody>\n",
       "    <tr>\n",
       "      <th>0</th>\n",
       "      <td>Own Home</td>\n",
       "      <td>482087.0</td>\n",
       "      <td>NaN</td>\n",
       "      <td>0.0</td>\n",
       "      <td>11.0</td>\n",
       "      <td>26.3</td>\n",
       "      <td>685960.0</td>\n",
       "      <td>1.0</td>\n",
       "      <td>NaN</td>\n",
       "      <td>1.0</td>\n",
       "      <td>debt consolidation</td>\n",
       "      <td>Short Term</td>\n",
       "      <td>99999999.0</td>\n",
       "      <td>47386.0</td>\n",
       "      <td>7914.0</td>\n",
       "      <td>749.0</td>\n",
       "      <td>0</td>\n",
       "    </tr>\n",
       "    <tr>\n",
       "      <th>1</th>\n",
       "      <td>Own Home</td>\n",
       "      <td>1025487.0</td>\n",
       "      <td>10+ years</td>\n",
       "      <td>0.0</td>\n",
       "      <td>15.0</td>\n",
       "      <td>15.3</td>\n",
       "      <td>1181730.0</td>\n",
       "      <td>0.0</td>\n",
       "      <td>NaN</td>\n",
       "      <td>0.0</td>\n",
       "      <td>debt consolidation</td>\n",
       "      <td>Long Term</td>\n",
       "      <td>264968.0</td>\n",
       "      <td>394972.0</td>\n",
       "      <td>18373.0</td>\n",
       "      <td>737.0</td>\n",
       "      <td>1</td>\n",
       "    </tr>\n",
       "    <tr>\n",
       "      <th>2</th>\n",
       "      <td>Home Mortgage</td>\n",
       "      <td>751412.0</td>\n",
       "      <td>8 years</td>\n",
       "      <td>0.0</td>\n",
       "      <td>11.0</td>\n",
       "      <td>35.0</td>\n",
       "      <td>1182434.0</td>\n",
       "      <td>0.0</td>\n",
       "      <td>NaN</td>\n",
       "      <td>0.0</td>\n",
       "      <td>debt consolidation</td>\n",
       "      <td>Short Term</td>\n",
       "      <td>99999999.0</td>\n",
       "      <td>308389.0</td>\n",
       "      <td>13651.0</td>\n",
       "      <td>742.0</td>\n",
       "      <td>0</td>\n",
       "    </tr>\n",
       "    <tr>\n",
       "      <th>3</th>\n",
       "      <td>Own Home</td>\n",
       "      <td>805068.0</td>\n",
       "      <td>6 years</td>\n",
       "      <td>0.0</td>\n",
       "      <td>8.0</td>\n",
       "      <td>22.5</td>\n",
       "      <td>147400.0</td>\n",
       "      <td>1.0</td>\n",
       "      <td>NaN</td>\n",
       "      <td>1.0</td>\n",
       "      <td>debt consolidation</td>\n",
       "      <td>Short Term</td>\n",
       "      <td>121396.0</td>\n",
       "      <td>95855.0</td>\n",
       "      <td>11338.0</td>\n",
       "      <td>694.0</td>\n",
       "      <td>0</td>\n",
       "    </tr>\n",
       "    <tr>\n",
       "      <th>4</th>\n",
       "      <td>Rent</td>\n",
       "      <td>776264.0</td>\n",
       "      <td>8 years</td>\n",
       "      <td>0.0</td>\n",
       "      <td>13.0</td>\n",
       "      <td>13.6</td>\n",
       "      <td>385836.0</td>\n",
       "      <td>1.0</td>\n",
       "      <td>NaN</td>\n",
       "      <td>0.0</td>\n",
       "      <td>debt consolidation</td>\n",
       "      <td>Short Term</td>\n",
       "      <td>125840.0</td>\n",
       "      <td>93309.0</td>\n",
       "      <td>7180.0</td>\n",
       "      <td>719.0</td>\n",
       "      <td>0</td>\n",
       "    </tr>\n",
       "    <tr>\n",
       "      <th>5</th>\n",
       "      <td>Rent</td>\n",
       "      <td>NaN</td>\n",
       "      <td>7 years</td>\n",
       "      <td>0.0</td>\n",
       "      <td>12.0</td>\n",
       "      <td>14.6</td>\n",
       "      <td>366784.0</td>\n",
       "      <td>0.0</td>\n",
       "      <td>NaN</td>\n",
       "      <td>0.0</td>\n",
       "      <td>other</td>\n",
       "      <td>Long Term</td>\n",
       "      <td>337304.0</td>\n",
       "      <td>165680.0</td>\n",
       "      <td>18692.0</td>\n",
       "      <td>NaN</td>\n",
       "      <td>1</td>\n",
       "    </tr>\n",
       "    <tr>\n",
       "      <th>6</th>\n",
       "      <td>Home Mortgage</td>\n",
       "      <td>1511108.0</td>\n",
       "      <td>10+ years</td>\n",
       "      <td>0.0</td>\n",
       "      <td>9.0</td>\n",
       "      <td>20.3</td>\n",
       "      <td>388124.0</td>\n",
       "      <td>0.0</td>\n",
       "      <td>73.0</td>\n",
       "      <td>0.0</td>\n",
       "      <td>home improvements</td>\n",
       "      <td>Short Term</td>\n",
       "      <td>99999999.0</td>\n",
       "      <td>51623.0</td>\n",
       "      <td>2317.0</td>\n",
       "      <td>745.0</td>\n",
       "      <td>0</td>\n",
       "    </tr>\n",
       "    <tr>\n",
       "      <th>7</th>\n",
       "      <td>Rent</td>\n",
       "      <td>1040060.0</td>\n",
       "      <td>10+ years</td>\n",
       "      <td>0.0</td>\n",
       "      <td>13.0</td>\n",
       "      <td>12.0</td>\n",
       "      <td>330374.0</td>\n",
       "      <td>0.0</td>\n",
       "      <td>18.0</td>\n",
       "      <td>0.0</td>\n",
       "      <td>other</td>\n",
       "      <td>Short Term</td>\n",
       "      <td>250888.0</td>\n",
       "      <td>89015.0</td>\n",
       "      <td>19761.0</td>\n",
       "      <td>705.0</td>\n",
       "      <td>1</td>\n",
       "    </tr>\n",
       "    <tr>\n",
       "      <th>8</th>\n",
       "      <td>Home Mortgage</td>\n",
       "      <td>NaN</td>\n",
       "      <td>5 years</td>\n",
       "      <td>0.0</td>\n",
       "      <td>17.0</td>\n",
       "      <td>15.7</td>\n",
       "      <td>0.0</td>\n",
       "      <td>1.0</td>\n",
       "      <td>NaN</td>\n",
       "      <td>1.0</td>\n",
       "      <td>home improvements</td>\n",
       "      <td>Short Term</td>\n",
       "      <td>129734.0</td>\n",
       "      <td>19.0</td>\n",
       "      <td>17.0</td>\n",
       "      <td>NaN</td>\n",
       "      <td>0</td>\n",
       "    </tr>\n",
       "    <tr>\n",
       "      <th>9</th>\n",
       "      <td>Home Mortgage</td>\n",
       "      <td>NaN</td>\n",
       "      <td>1 year</td>\n",
       "      <td>0.0</td>\n",
       "      <td>10.0</td>\n",
       "      <td>24.6</td>\n",
       "      <td>511302.0</td>\n",
       "      <td>0.0</td>\n",
       "      <td>6.0</td>\n",
       "      <td>0.0</td>\n",
       "      <td>debt consolidation</td>\n",
       "      <td>Long Term</td>\n",
       "      <td>572880.0</td>\n",
       "      <td>205333.0</td>\n",
       "      <td>17613.0</td>\n",
       "      <td>NaN</td>\n",
       "      <td>1</td>\n",
       "    </tr>\n",
       "  </tbody>\n",
       "</table>\n",
       "</div>"
      ],
      "text/plain": [
       "  Home Ownership  Annual Income Years in current job  Tax Liens  \\\n",
       "0       Own Home       482087.0                  NaN        0.0   \n",
       "1       Own Home      1025487.0            10+ years        0.0   \n",
       "2  Home Mortgage       751412.0              8 years        0.0   \n",
       "3       Own Home       805068.0              6 years        0.0   \n",
       "4           Rent       776264.0              8 years        0.0   \n",
       "5           Rent            NaN              7 years        0.0   \n",
       "6  Home Mortgage      1511108.0            10+ years        0.0   \n",
       "7           Rent      1040060.0            10+ years        0.0   \n",
       "8  Home Mortgage            NaN              5 years        0.0   \n",
       "9  Home Mortgage            NaN               1 year        0.0   \n",
       "\n",
       "   Number of Open Accounts  Years of Credit History  Maximum Open Credit  \\\n",
       "0                     11.0                     26.3             685960.0   \n",
       "1                     15.0                     15.3            1181730.0   \n",
       "2                     11.0                     35.0            1182434.0   \n",
       "3                      8.0                     22.5             147400.0   \n",
       "4                     13.0                     13.6             385836.0   \n",
       "5                     12.0                     14.6             366784.0   \n",
       "6                      9.0                     20.3             388124.0   \n",
       "7                     13.0                     12.0             330374.0   \n",
       "8                     17.0                     15.7                  0.0   \n",
       "9                     10.0                     24.6             511302.0   \n",
       "\n",
       "   Number of Credit Problems  Months since last delinquent  Bankruptcies  \\\n",
       "0                        1.0                           NaN           1.0   \n",
       "1                        0.0                           NaN           0.0   \n",
       "2                        0.0                           NaN           0.0   \n",
       "3                        1.0                           NaN           1.0   \n",
       "4                        1.0                           NaN           0.0   \n",
       "5                        0.0                           NaN           0.0   \n",
       "6                        0.0                          73.0           0.0   \n",
       "7                        0.0                          18.0           0.0   \n",
       "8                        1.0                           NaN           1.0   \n",
       "9                        0.0                           6.0           0.0   \n",
       "\n",
       "              Purpose        Term  Current Loan Amount  \\\n",
       "0  debt consolidation  Short Term           99999999.0   \n",
       "1  debt consolidation   Long Term             264968.0   \n",
       "2  debt consolidation  Short Term           99999999.0   \n",
       "3  debt consolidation  Short Term             121396.0   \n",
       "4  debt consolidation  Short Term             125840.0   \n",
       "5               other   Long Term             337304.0   \n",
       "6   home improvements  Short Term           99999999.0   \n",
       "7               other  Short Term             250888.0   \n",
       "8   home improvements  Short Term             129734.0   \n",
       "9  debt consolidation   Long Term             572880.0   \n",
       "\n",
       "   Current Credit Balance  Monthly Debt  Credit Score  Credit Default  \n",
       "0                 47386.0        7914.0         749.0               0  \n",
       "1                394972.0       18373.0         737.0               1  \n",
       "2                308389.0       13651.0         742.0               0  \n",
       "3                 95855.0       11338.0         694.0               0  \n",
       "4                 93309.0        7180.0         719.0               0  \n",
       "5                165680.0       18692.0           NaN               1  \n",
       "6                 51623.0        2317.0         745.0               0  \n",
       "7                 89015.0       19761.0         705.0               1  \n",
       "8                    19.0          17.0           NaN               0  \n",
       "9                205333.0       17613.0           NaN               1  "
      ]
     },
     "execution_count": 6,
     "metadata": {},
     "output_type": "execute_result"
    }
   ],
   "source": [
    "df_train.head(10)"
   ]
  },
  {
   "cell_type": "code",
   "execution_count": 7,
   "metadata": {
    "execution": {
     "iopub.execute_input": "2021-03-04T15:42:47.454833Z",
     "iopub.status.busy": "2021-03-04T15:42:47.453789Z",
     "iopub.status.idle": "2021-03-04T15:42:47.706583Z",
     "shell.execute_reply": "2021-03-04T15:42:47.707111Z"
    },
    "papermill": {
     "duration": 0.304432,
     "end_time": "2021-03-04T15:42:47.707292",
     "exception": false,
     "start_time": "2021-03-04T15:42:47.402860",
     "status": "completed"
    },
    "tags": []
   },
   "outputs": [
    {
     "data": {
      "image/png": "[encoded data removed]",
      "text/plain": [
       "<Figure size 720x576 with 1 Axes>"
      ]
     },
     "metadata": {
      "needs_background": "light"
     },
     "output_type": "display_data"
    }
   ],
   "source": [
    "corr_with_target = df_train.corr().iloc[:-1, -1].sort_values(ascending=False)\n",
    "\n",
    "plt.figure(figsize=(10, 8))\n",
    "\n",
    "sns.barplot(x=corr_with_target.values, y=corr_with_target.index)\n",
    "\n",
    "plt.title('Correlation with target variable')\n",
    "plt.show()"
   ]
  },
  {
   "cell_type": "code",
   "execution_count": 8,
   "metadata": {
    "execution": {
     "iopub.execute_input": "2021-03-04T15:42:47.810092Z",
     "iopub.status.busy": "2021-03-04T15:42:47.809098Z",
     "iopub.status.idle": "2021-03-04T15:42:48.116482Z",
     "shell.execute_reply": "2021-03-04T15:42:48.115863Z"
    },
    "papermill": {
     "duration": 0.36011,
     "end_time": "2021-03-04T15:42:48.116635",
     "exception": false,
     "start_time": "2021-03-04T15:42:47.756525",
     "status": "completed"
    },
    "tags": []
   },
   "outputs": [
    {
     "data": {
      "image/png": "[encoded data removed]",
      "text/plain": [
       "<Figure size 720x576 with 1 Axes>"
      ]
     },
     "metadata": {
      "needs_background": "light"
     },
     "output_type": "display_data"
    }
   ],
   "source": [
    "plt.figure(figsize=(10, 8))\n",
    "\n",
    "sns.countplot(x=\"Years in current job\", hue=TARGET_NAME, data=df_train)\n",
    "plt.title('\\\"Years in current job\\\" grouped by target variable')\n",
    "plt.legend(title='Target', loc='upper right')\n",
    "\n",
    "plt.show()"
   ]
  },
  {
   "cell_type": "markdown",
   "metadata": {
    "papermill": {
     "duration": 0.051911,
     "end_time": "2021-03-04T15:42:48.218387",
     "exception": false,
     "start_time": "2021-03-04T15:42:48.166476",
     "status": "completed"
    },
    "tags": []
   },
   "source": [
    "*Выводы для дальнейшего анализа датасета:*\n",
    "\n",
    "- Пропуски в \"Months since last delinquent\" возможно показывают, что на текущий момент просроченная задолжность отсутствует. NaN заменяется 0. Добавляется новый бинарный признак - 1/0 (задолженость/отсутствие задолженности).\n",
    "\n",
    "- Пропуски в \"Annual Income\" могут свидетельствовать о неизвестном доходе. Данный критерий важен для анализа платежеспособности заемщика. Пропуски заменяются на медиану и определяется новое значение 0 (неизвестный доход).\n",
    "\n",
    "- Значение 99999999 в признаке \"Current Loan Amount\" вызывает сомнение в его корректости. Скорее всего это выброс."
   ]
  },
  {
   "cell_type": "markdown",
   "metadata": {
    "papermill": {
     "duration": 0.050595,
     "end_time": "2021-03-04T15:42:48.318943",
     "exception": false,
     "start_time": "2021-03-04T15:42:48.268348",
     "status": "completed"
    },
    "tags": []
   },
   "source": [
    "**Обработка выбросов и пропусков**"
   ]
  },
  {
   "cell_type": "code",
   "execution_count": 9,
   "metadata": {
    "execution": {
     "iopub.execute_input": "2021-03-04T15:42:48.427361Z",
     "iopub.status.busy": "2021-03-04T15:42:48.426323Z",
     "iopub.status.idle": "2021-03-04T15:42:48.438166Z",
     "shell.execute_reply": "2021-03-04T15:42:48.439041Z"
    },
    "papermill": {
     "duration": 0.070137,
     "end_time": "2021-03-04T15:42:48.439377",
     "exception": false,
     "start_time": "2021-03-04T15:42:48.369240",
     "status": "completed"
    },
    "tags": []
   },
   "outputs": [
    {
     "data": {
      "text/plain": [
       "Home Ownership                     0\n",
       "Annual Income                   1557\n",
       "Years in current job             371\n",
       "Tax Liens                          0\n",
       "Number of Open Accounts            0\n",
       "Years of Credit History            0\n",
       "Maximum Open Credit                0\n",
       "Number of Credit Problems          0\n",
       "Months since last delinquent    4081\n",
       "Bankruptcies                      14\n",
       "Purpose                            0\n",
       "Term                               0\n",
       "Current Loan Amount                0\n",
       "Current Credit Balance             0\n",
       "Monthly Debt                       0\n",
       "Credit Score                    1557\n",
       "Credit Default                     0\n",
       "dtype: int64"
      ]
     },
     "execution_count": 9,
     "metadata": {},
     "output_type": "execute_result"
    }
   ],
   "source": [
    "# пропуски\n",
    "df_train.isna().sum()"
   ]
  },
  {
   "cell_type": "code",
   "execution_count": 10,
   "metadata": {
    "execution": {
     "iopub.execute_input": "2021-03-04T15:42:48.546006Z",
     "iopub.status.busy": "2021-03-04T15:42:48.544893Z",
     "iopub.status.idle": "2021-03-04T15:42:48.554106Z",
     "shell.execute_reply": "2021-03-04T15:42:48.553358Z"
    },
    "papermill": {
     "duration": 0.0634,
     "end_time": "2021-03-04T15:42:48.554263",
     "exception": false,
     "start_time": "2021-03-04T15:42:48.490863",
     "status": "completed"
    },
    "tags": []
   },
   "outputs": [],
   "source": [
    "# Добавляется новый бинарный признак - 1/0 (задолженость/отсутствие задолженности)\n",
    "df_train['has_delay'] = 1\n",
    "df_train.loc[(df_train['Months since last delinquent'] == 0), 'has_delay'] = 0\n",
    "\n",
    "# Заменяется пропуск NaN на 0 в 'Months since last delinquent'\n",
    "df_train['Months since last delinquent'].fillna(0, inplace=True)"
   ]
  },
  {
   "cell_type": "code",
   "execution_count": 11,
   "metadata": {
    "execution": {
     "iopub.execute_input": "2021-03-04T15:42:48.666109Z",
     "iopub.status.busy": "2021-03-04T15:42:48.665020Z",
     "iopub.status.idle": "2021-03-04T15:42:48.669850Z",
     "shell.execute_reply": "2021-03-04T15:42:48.669287Z"
    },
    "papermill": {
     "duration": 0.064746,
     "end_time": "2021-03-04T15:42:48.670034",
     "exception": false,
     "start_time": "2021-03-04T15:42:48.605288",
     "status": "completed"
    },
    "tags": []
   },
   "outputs": [],
   "source": [
    "# Добавляется новый бинарный признак о неизвестном доходе 1/0 (доход известен/доход не известен)\n",
    "df_train['unknown_income'] = 0\n",
    "df_train.loc[(df_train['Annual Income'].isnull()), 'unknown_income'] = 1\n",
    "\n",
    "# В новую переменную annual_income_median записывается медианное значение дохода\n",
    "annual_income_median = df_train['Annual Income'].median()\n",
    "\n",
    "# Пропуски дохода заполняются медианным значением\n",
    "df_train['Annual Income'].fillna(annual_income_median, inplace=True)"
   ]
  },
  {
   "cell_type": "code",
   "execution_count": 12,
   "metadata": {
    "execution": {
     "iopub.execute_input": "2021-03-04T15:42:48.781628Z",
     "iopub.status.busy": "2021-03-04T15:42:48.780741Z",
     "iopub.status.idle": "2021-03-04T15:42:48.818120Z",
     "shell.execute_reply": "2021-03-04T15:42:48.817564Z"
    },
    "papermill": {
     "duration": 0.097086,
     "end_time": "2021-03-04T15:42:48.818281",
     "exception": false,
     "start_time": "2021-03-04T15:42:48.721195",
     "status": "completed"
    },
    "tags": []
   },
   "outputs": [
    {
     "data": {
      "text/html": [
       "<div>\n",
       "<style scoped>\n",
       "    .dataframe tbody tr th:only-of-type {\n",
       "        vertical-align: middle;\n",
       "    }\n",
       "\n",
       "    .dataframe tbody tr th {\n",
       "        vertical-align: top;\n",
       "    }\n",
       "\n",
       "    .dataframe thead th {\n",
       "        text-align: right;\n",
       "    }\n",
       "</style>\n",
       "<table border=\"1\" class=\"dataframe\">\n",
       "  <thead>\n",
       "    <tr style=\"text-align: right;\">\n",
       "      <th></th>\n",
       "      <th>Home Ownership</th>\n",
       "      <th>Annual Income</th>\n",
       "      <th>Years in current job</th>\n",
       "      <th>Tax Liens</th>\n",
       "      <th>Number of Open Accounts</th>\n",
       "      <th>Years of Credit History</th>\n",
       "      <th>Maximum Open Credit</th>\n",
       "      <th>Number of Credit Problems</th>\n",
       "      <th>Months since last delinquent</th>\n",
       "      <th>Bankruptcies</th>\n",
       "      <th>Purpose</th>\n",
       "      <th>Term</th>\n",
       "      <th>Current Loan Amount</th>\n",
       "      <th>Current Credit Balance</th>\n",
       "      <th>Monthly Debt</th>\n",
       "      <th>Credit Score</th>\n",
       "      <th>Credit Default</th>\n",
       "      <th>has_delay</th>\n",
       "      <th>unknown_income</th>\n",
       "    </tr>\n",
       "  </thead>\n",
       "  <tbody>\n",
       "    <tr>\n",
       "      <th>0</th>\n",
       "      <td>Own Home</td>\n",
       "      <td>482087.0</td>\n",
       "      <td>NaN</td>\n",
       "      <td>0.0</td>\n",
       "      <td>11.0</td>\n",
       "      <td>26.3</td>\n",
       "      <td>685960.0</td>\n",
       "      <td>1.0</td>\n",
       "      <td>0.0</td>\n",
       "      <td>1.0</td>\n",
       "      <td>debt consolidation</td>\n",
       "      <td>Short Term</td>\n",
       "      <td>99999999.0</td>\n",
       "      <td>47386.0</td>\n",
       "      <td>7914.0</td>\n",
       "      <td>749.0</td>\n",
       "      <td>0</td>\n",
       "      <td>1</td>\n",
       "      <td>0</td>\n",
       "    </tr>\n",
       "    <tr>\n",
       "      <th>1</th>\n",
       "      <td>Own Home</td>\n",
       "      <td>1025487.0</td>\n",
       "      <td>10+ years</td>\n",
       "      <td>0.0</td>\n",
       "      <td>15.0</td>\n",
       "      <td>15.3</td>\n",
       "      <td>1181730.0</td>\n",
       "      <td>0.0</td>\n",
       "      <td>0.0</td>\n",
       "      <td>0.0</td>\n",
       "      <td>debt consolidation</td>\n",
       "      <td>Long Term</td>\n",
       "      <td>264968.0</td>\n",
       "      <td>394972.0</td>\n",
       "      <td>18373.0</td>\n",
       "      <td>737.0</td>\n",
       "      <td>1</td>\n",
       "      <td>1</td>\n",
       "      <td>0</td>\n",
       "    </tr>\n",
       "    <tr>\n",
       "      <th>2</th>\n",
       "      <td>Home Mortgage</td>\n",
       "      <td>751412.0</td>\n",
       "      <td>8 years</td>\n",
       "      <td>0.0</td>\n",
       "      <td>11.0</td>\n",
       "      <td>35.0</td>\n",
       "      <td>1182434.0</td>\n",
       "      <td>0.0</td>\n",
       "      <td>0.0</td>\n",
       "      <td>0.0</td>\n",
       "      <td>debt consolidation</td>\n",
       "      <td>Short Term</td>\n",
       "      <td>99999999.0</td>\n",
       "      <td>308389.0</td>\n",
       "      <td>13651.0</td>\n",
       "      <td>742.0</td>\n",
       "      <td>0</td>\n",
       "      <td>1</td>\n",
       "      <td>0</td>\n",
       "    </tr>\n",
       "    <tr>\n",
       "      <th>3</th>\n",
       "      <td>Own Home</td>\n",
       "      <td>805068.0</td>\n",
       "      <td>6 years</td>\n",
       "      <td>0.0</td>\n",
       "      <td>8.0</td>\n",
       "      <td>22.5</td>\n",
       "      <td>147400.0</td>\n",
       "      <td>1.0</td>\n",
       "      <td>0.0</td>\n",
       "      <td>1.0</td>\n",
       "      <td>debt consolidation</td>\n",
       "      <td>Short Term</td>\n",
       "      <td>121396.0</td>\n",
       "      <td>95855.0</td>\n",
       "      <td>11338.0</td>\n",
       "      <td>694.0</td>\n",
       "      <td>0</td>\n",
       "      <td>1</td>\n",
       "      <td>0</td>\n",
       "    </tr>\n",
       "    <tr>\n",
       "      <th>4</th>\n",
       "      <td>Rent</td>\n",
       "      <td>776264.0</td>\n",
       "      <td>8 years</td>\n",
       "      <td>0.0</td>\n",
       "      <td>13.0</td>\n",
       "      <td>13.6</td>\n",
       "      <td>385836.0</td>\n",
       "      <td>1.0</td>\n",
       "      <td>0.0</td>\n",
       "      <td>0.0</td>\n",
       "      <td>debt consolidation</td>\n",
       "      <td>Short Term</td>\n",
       "      <td>125840.0</td>\n",
       "      <td>93309.0</td>\n",
       "      <td>7180.0</td>\n",
       "      <td>719.0</td>\n",
       "      <td>0</td>\n",
       "      <td>1</td>\n",
       "      <td>0</td>\n",
       "    </tr>\n",
       "    <tr>\n",
       "      <th>5</th>\n",
       "      <td>Rent</td>\n",
       "      <td>1168386.0</td>\n",
       "      <td>7 years</td>\n",
       "      <td>0.0</td>\n",
       "      <td>12.0</td>\n",
       "      <td>14.6</td>\n",
       "      <td>366784.0</td>\n",
       "      <td>0.0</td>\n",
       "      <td>0.0</td>\n",
       "      <td>0.0</td>\n",
       "      <td>other</td>\n",
       "      <td>Long Term</td>\n",
       "      <td>337304.0</td>\n",
       "      <td>165680.0</td>\n",
       "      <td>18692.0</td>\n",
       "      <td>NaN</td>\n",
       "      <td>1</td>\n",
       "      <td>1</td>\n",
       "      <td>1</td>\n",
       "    </tr>\n",
       "    <tr>\n",
       "      <th>6</th>\n",
       "      <td>Home Mortgage</td>\n",
       "      <td>1511108.0</td>\n",
       "      <td>10+ years</td>\n",
       "      <td>0.0</td>\n",
       "      <td>9.0</td>\n",
       "      <td>20.3</td>\n",
       "      <td>388124.0</td>\n",
       "      <td>0.0</td>\n",
       "      <td>73.0</td>\n",
       "      <td>0.0</td>\n",
       "      <td>home improvements</td>\n",
       "      <td>Short Term</td>\n",
       "      <td>99999999.0</td>\n",
       "      <td>51623.0</td>\n",
       "      <td>2317.0</td>\n",
       "      <td>745.0</td>\n",
       "      <td>0</td>\n",
       "      <td>1</td>\n",
       "      <td>0</td>\n",
       "    </tr>\n",
       "    <tr>\n",
       "      <th>7</th>\n",
       "      <td>Rent</td>\n",
       "      <td>1040060.0</td>\n",
       "      <td>10+ years</td>\n",
       "      <td>0.0</td>\n",
       "      <td>13.0</td>\n",
       "      <td>12.0</td>\n",
       "      <td>330374.0</td>\n",
       "      <td>0.0</td>\n",
       "      <td>18.0</td>\n",
       "      <td>0.0</td>\n",
       "      <td>other</td>\n",
       "      <td>Short Term</td>\n",
       "      <td>250888.0</td>\n",
       "      <td>89015.0</td>\n",
       "      <td>19761.0</td>\n",
       "      <td>705.0</td>\n",
       "      <td>1</td>\n",
       "      <td>1</td>\n",
       "      <td>0</td>\n",
       "    </tr>\n",
       "    <tr>\n",
       "      <th>8</th>\n",
       "      <td>Home Mortgage</td>\n",
       "      <td>1168386.0</td>\n",
       "      <td>5 years</td>\n",
       "      <td>0.0</td>\n",
       "      <td>17.0</td>\n",
       "      <td>15.7</td>\n",
       "      <td>0.0</td>\n",
       "      <td>1.0</td>\n",
       "      <td>0.0</td>\n",
       "      <td>1.0</td>\n",
       "      <td>home improvements</td>\n",
       "      <td>Short Term</td>\n",
       "      <td>129734.0</td>\n",
       "      <td>19.0</td>\n",
       "      <td>17.0</td>\n",
       "      <td>NaN</td>\n",
       "      <td>0</td>\n",
       "      <td>1</td>\n",
       "      <td>1</td>\n",
       "    </tr>\n",
       "    <tr>\n",
       "      <th>9</th>\n",
       "      <td>Home Mortgage</td>\n",
       "      <td>1168386.0</td>\n",
       "      <td>1 year</td>\n",
       "      <td>0.0</td>\n",
       "      <td>10.0</td>\n",
       "      <td>24.6</td>\n",
       "      <td>511302.0</td>\n",
       "      <td>0.0</td>\n",
       "      <td>6.0</td>\n",
       "      <td>0.0</td>\n",
       "      <td>debt consolidation</td>\n",
       "      <td>Long Term</td>\n",
       "      <td>572880.0</td>\n",
       "      <td>205333.0</td>\n",
       "      <td>17613.0</td>\n",
       "      <td>NaN</td>\n",
       "      <td>1</td>\n",
       "      <td>1</td>\n",
       "      <td>1</td>\n",
       "    </tr>\n",
       "  </tbody>\n",
       "</table>\n",
       "</div>"
      ],
      "text/plain": [
       "  Home Ownership  Annual Income Years in current job  Tax Liens  \\\n",
       "0       Own Home       482087.0                  NaN        0.0   \n",
       "1       Own Home      1025487.0            10+ years        0.0   \n",
       "2  Home Mortgage       751412.0              8 years        0.0   \n",
       "3       Own Home       805068.0              6 years        0.0   \n",
       "4           Rent       776264.0              8 years        0.0   \n",
       "5           Rent      1168386.0              7 years        0.0   \n",
       "6  Home Mortgage      1511108.0            10+ years        0.0   \n",
       "7           Rent      1040060.0            10+ years        0.0   \n",
       "8  Home Mortgage      1168386.0              5 years        0.0   \n",
       "9  Home Mortgage      1168386.0               1 year        0.0   \n",
       "\n",
       "   Number of Open Accounts  Years of Credit History  Maximum Open Credit  \\\n",
       "0                     11.0                     26.3             685960.0   \n",
       "1                     15.0                     15.3            1181730.0   \n",
       "2                     11.0                     35.0            1182434.0   \n",
       "3                      8.0                     22.5             147400.0   \n",
       "4                     13.0                     13.6             385836.0   \n",
       "5                     12.0                     14.6             366784.0   \n",
       "6                      9.0                     20.3             388124.0   \n",
       "7                     13.0                     12.0             330374.0   \n",
       "8                     17.0                     15.7                  0.0   \n",
       "9                     10.0                     24.6             511302.0   \n",
       "\n",
       "   Number of Credit Problems  Months since last delinquent  Bankruptcies  \\\n",
       "0                        1.0                           0.0           1.0   \n",
       "1                        0.0                           0.0           0.0   \n",
       "2                        0.0                           0.0           0.0   \n",
       "3                        1.0                           0.0           1.0   \n",
       "4                        1.0                           0.0           0.0   \n",
       "5                        0.0                           0.0           0.0   \n",
       "6                        0.0                          73.0           0.0   \n",
       "7                        0.0                          18.0           0.0   \n",
       "8                        1.0                           0.0           1.0   \n",
       "9                        0.0                           6.0           0.0   \n",
       "\n",
       "              Purpose        Term  Current Loan Amount  \\\n",
       "0  debt consolidation  Short Term           99999999.0   \n",
       "1  debt consolidation   Long Term             264968.0   \n",
       "2  debt consolidation  Short Term           99999999.0   \n",
       "3  debt consolidation  Short Term             121396.0   \n",
       "4  debt consolidation  Short Term             125840.0   \n",
       "5               other   Long Term             337304.0   \n",
       "6   home improvements  Short Term           99999999.0   \n",
       "7               other  Short Term             250888.0   \n",
       "8   home improvements  Short Term             129734.0   \n",
       "9  debt consolidation   Long Term             572880.0   \n",
       "\n",
       "   Current Credit Balance  Monthly Debt  Credit Score  Credit Default  \\\n",
       "0                 47386.0        7914.0         749.0               0   \n",
       "1                394972.0       18373.0         737.0               1   \n",
       "2                308389.0       13651.0         742.0               0   \n",
       "3                 95855.0       11338.0         694.0               0   \n",
       "4                 93309.0        7180.0         719.0               0   \n",
       "5                165680.0       18692.0           NaN               1   \n",
       "6                 51623.0        2317.0         745.0               0   \n",
       "7                 89015.0       19761.0         705.0               1   \n",
       "8                    19.0          17.0           NaN               0   \n",
       "9                205333.0       17613.0           NaN               1   \n",
       "\n",
       "   has_delay  unknown_income  \n",
       "0          1               0  \n",
       "1          1               0  \n",
       "2          1               0  \n",
       "3          1               0  \n",
       "4          1               0  \n",
       "5          1               1  \n",
       "6          1               0  \n",
       "7          1               0  \n",
       "8          1               1  \n",
       "9          1               1  "
      ]
     },
     "execution_count": 12,
     "metadata": {},
     "output_type": "execute_result"
    }
   ],
   "source": [
    "df_train.isnull().sum()\n",
    "df_train.head(10)"
   ]
  },
  {
   "cell_type": "code",
   "execution_count": 13,
   "metadata": {
    "execution": {
     "iopub.execute_input": "2021-03-04T15:42:48.928062Z",
     "iopub.status.busy": "2021-03-04T15:42:48.927329Z",
     "iopub.status.idle": "2021-03-04T15:42:48.931244Z",
     "shell.execute_reply": "2021-03-04T15:42:48.930558Z"
    },
    "papermill": {
     "duration": 0.061197,
     "end_time": "2021-03-04T15:42:48.931392",
     "exception": false,
     "start_time": "2021-03-04T15:42:48.870195",
     "status": "completed"
    },
    "tags": []
   },
   "outputs": [],
   "source": [
    "NEW_FEATURE_NAMES = ['has_delay','unknown_income']"
   ]
  },
  {
   "cell_type": "code",
   "execution_count": 14,
   "metadata": {
    "execution": {
     "iopub.execute_input": "2021-03-04T15:42:49.042391Z",
     "iopub.status.busy": "2021-03-04T15:42:49.041508Z",
     "iopub.status.idle": "2021-03-04T15:42:49.413792Z",
     "shell.execute_reply": "2021-03-04T15:42:49.413173Z"
    },
    "papermill": {
     "duration": 0.430877,
     "end_time": "2021-03-04T15:42:49.413980",
     "exception": false,
     "start_time": "2021-03-04T15:42:48.983103",
     "status": "completed"
    },
    "tags": []
   },
   "outputs": [
    {
     "data": {
      "image/png": "[encoded data removed]",
      "text/plain": [
       "<Figure size 720x576 with 1 Axes>"
      ]
     },
     "metadata": {
      "needs_background": "light"
     },
     "output_type": "display_data"
    }
   ],
   "source": [
    "corr_with_target = df_train[BASE_FEATURE_NAMES + \n",
    "                            NEW_FEATURE_NAMES + \n",
    "                            [TARGET_NAME]].corr().iloc[:-1, -1].sort_values(ascending=False)\n",
    "\n",
    "plt.figure(figsize=(10, 8))\n",
    "\n",
    "sns.barplot(x=corr_with_target.values, y=corr_with_target.index)\n",
    "\n",
    "plt.title('Correlation with target variable')\n",
    "plt.show()"
   ]
  },
  {
   "cell_type": "markdown",
   "metadata": {
    "papermill": {
     "duration": 0.052954,
     "end_time": "2021-03-04T15:42:49.521124",
     "exception": false,
     "start_time": "2021-03-04T15:42:49.468170",
     "status": "completed"
    },
    "tags": []
   },
   "source": [
    "**Анализ данных. Отбор признаков. Балансировка классов**"
   ]
  },
  {
   "cell_type": "code",
   "execution_count": 15,
   "metadata": {
    "execution": {
     "iopub.execute_input": "2021-03-04T15:42:49.643557Z",
     "iopub.status.busy": "2021-03-04T15:42:49.635220Z",
     "iopub.status.idle": "2021-03-04T15:42:51.170164Z",
     "shell.execute_reply": "2021-03-04T15:42:51.169540Z"
    },
    "papermill": {
     "duration": 1.594389,
     "end_time": "2021-03-04T15:42:51.170328",
     "exception": false,
     "start_time": "2021-03-04T15:42:49.575939",
     "status": "completed"
    },
    "tags": []
   },
   "outputs": [
    {
     "data": {
      "image/png": "[encoded data removed]",
      "text/plain": [
       "<Figure size 1008x756 with 11 Axes>"
      ]
     },
     "metadata": {
      "needs_background": "light"
     },
     "output_type": "display_data"
    }
   ],
   "source": [
    "# Определение количества людей, в группах по стажу работы, не возвращающих кредит\n",
    "\n",
    "g = sns.catplot(\"Credit Default\", col=\"Years in current job\", col_wrap=5,\n",
    "                data=df_train,\n",
    "                kind=\"count\", height=3.5, aspect=.8, \n",
    "                palette='tab20')\n",
    "\n",
    "#fig.suptitle('sf')\n",
    "plt.show()"
   ]
  },
  {
   "cell_type": "code",
   "execution_count": 16,
   "metadata": {
    "execution": {
     "iopub.execute_input": "2021-03-04T15:42:51.287598Z",
     "iopub.status.busy": "2021-03-04T15:42:51.286835Z",
     "iopub.status.idle": "2021-03-04T15:42:51.509084Z",
     "shell.execute_reply": "2021-03-04T15:42:51.508472Z"
    },
    "papermill": {
     "duration": 0.283199,
     "end_time": "2021-03-04T15:42:51.509240",
     "exception": false,
     "start_time": "2021-03-04T15:42:51.226041",
     "status": "completed"
    },
    "tags": []
   },
   "outputs": [
    {
     "data": {
      "image/png": "[encoded data removed]",
      "text/plain": [
       "<Figure size 720x216 with 1 Axes>"
      ]
     },
     "metadata": {
      "needs_background": "light"
     },
     "output_type": "display_data"
    }
   ],
   "source": [
    "plt.figure(figsize = (10, 3))\n",
    "\n",
    "df_train['Credit Score'].hist(bins=30, )\n",
    "plt.ylabel('Count')\n",
    "plt.xlabel('Credit Score')\n",
    "\n",
    "plt.title('bla bla')\n",
    "plt.show()"
   ]
  },
  {
   "cell_type": "code",
   "execution_count": 17,
   "metadata": {
    "execution": {
     "iopub.execute_input": "2021-03-04T15:42:51.627070Z",
     "iopub.status.busy": "2021-03-04T15:42:51.626078Z",
     "iopub.status.idle": "2021-03-04T15:42:51.638714Z",
     "shell.execute_reply": "2021-03-04T15:42:51.638068Z"
    },
    "papermill": {
     "duration": 0.073754,
     "end_time": "2021-03-04T15:42:51.638879",
     "exception": false,
     "start_time": "2021-03-04T15:42:51.565125",
     "status": "completed"
    },
    "tags": []
   },
   "outputs": [
    {
     "data": {
      "text/plain": [
       "Home Ownership                     0\n",
       "Annual Income                      0\n",
       "Years in current job             371\n",
       "Tax Liens                          0\n",
       "Number of Open Accounts            0\n",
       "Years of Credit History            0\n",
       "Maximum Open Credit                0\n",
       "Number of Credit Problems          0\n",
       "Months since last delinquent       0\n",
       "Bankruptcies                      14\n",
       "Purpose                            0\n",
       "Term                               0\n",
       "Current Loan Amount                0\n",
       "Current Credit Balance             0\n",
       "Monthly Debt                       0\n",
       "Credit Score                    1557\n",
       "Credit Default                     0\n",
       "has_delay                          0\n",
       "unknown_income                     0\n",
       "dtype: int64"
      ]
     },
     "execution_count": 17,
     "metadata": {},
     "output_type": "execute_result"
    }
   ],
   "source": [
    "df_train.isnull().sum()"
   ]
  },
  {
   "cell_type": "markdown",
   "metadata": {
    "papermill": {
     "duration": 0.057343,
     "end_time": "2021-03-04T15:42:51.752935",
     "exception": false,
     "start_time": "2021-03-04T15:42:51.695592",
     "status": "completed"
    },
    "tags": []
   },
   "source": [
    "Обработка 'Credit Score'"
   ]
  },
  {
   "cell_type": "code",
   "execution_count": 18,
   "metadata": {
    "execution": {
     "iopub.execute_input": "2021-03-04T15:42:51.874215Z",
     "iopub.status.busy": "2021-03-04T15:42:51.873480Z",
     "iopub.status.idle": "2021-03-04T15:42:51.877611Z",
     "shell.execute_reply": "2021-03-04T15:42:51.876676Z"
    },
    "papermill": {
     "duration": 0.068342,
     "end_time": "2021-03-04T15:42:51.877851",
     "exception": false,
     "start_time": "2021-03-04T15:42:51.809509",
     "status": "completed"
    },
    "tags": []
   },
   "outputs": [],
   "source": [
    "# Добавляется новая переменная unknown_credit_score по неизвестному Credit Score с присвоением 0 всем наблюдениям \n",
    "df_train['unknown_credit_score'] = 0\n",
    "\n",
    "NEW_FEATURE_NAMES = ['has_delay','unknown_income','unknown_credit_score']\n",
    "\n",
    "# В переменную credit_score_median записывается медианное значение рейтинга\n",
    "credit_score_median = df_train['Credit Score'].median()\n",
    "\n",
    "# По известному кредитному рейтингу присваивается 1 в переменной unknown_credit_score\n",
    "df_train.loc[(df_train['Credit Score'].isnull()), 'unknown_credit_score'] = 1\n",
    "\n",
    "# Пропуски рейтинга заполняются медианным значением\n",
    "df_train['Credit Score'].fillna(credit_score_median, inplace=True)"
   ]
  },
  {
   "cell_type": "markdown",
   "metadata": {
    "papermill": {
     "duration": 0.055917,
     "end_time": "2021-03-04T15:42:51.991120",
     "exception": false,
     "start_time": "2021-03-04T15:42:51.935203",
     "status": "completed"
    },
    "tags": []
   },
   "source": [
    "Обработка Years in current job"
   ]
  },
  {
   "cell_type": "code",
   "execution_count": 19,
   "metadata": {
    "execution": {
     "iopub.execute_input": "2021-03-04T15:42:52.109601Z",
     "iopub.status.busy": "2021-03-04T15:42:52.108356Z",
     "iopub.status.idle": "2021-03-04T15:42:52.117192Z",
     "shell.execute_reply": "2021-03-04T15:42:52.116588Z"
    },
    "papermill": {
     "duration": 0.069687,
     "end_time": "2021-03-04T15:42:52.117363",
     "exception": false,
     "start_time": "2021-03-04T15:42:52.047676",
     "status": "completed"
    },
    "tags": []
   },
   "outputs": [],
   "source": [
    "import random\n",
    "\n",
    "# Уникальные значения Years in current job\n",
    "unique_years_in_current_job = df_train['Years in current job'].unique()\n",
    "\n",
    "var_experiance = unique_years_in_current_job[1:]\n",
    "\n",
    "# NaN заменяется на рандомный опыт\n",
    "df_train['Years in current job'].fillna(random.choice(var_experiance), inplace=True)"
   ]
  },
  {
   "cell_type": "code",
   "execution_count": 20,
   "metadata": {
    "execution": {
     "iopub.execute_input": "2021-03-04T15:42:52.240381Z",
     "iopub.status.busy": "2021-03-04T15:42:52.239676Z",
     "iopub.status.idle": "2021-03-04T15:42:52.245676Z",
     "shell.execute_reply": "2021-03-04T15:42:52.246198Z"
    },
    "papermill": {
     "duration": 0.071282,
     "end_time": "2021-03-04T15:42:52.246374",
     "exception": false,
     "start_time": "2021-03-04T15:42:52.175092",
     "status": "completed"
    },
    "tags": []
   },
   "outputs": [
    {
     "data": {
      "text/plain": [
       "Home Ownership                   0\n",
       "Annual Income                    0\n",
       "Years in current job             0\n",
       "Tax Liens                        0\n",
       "Number of Open Accounts          0\n",
       "Years of Credit History          0\n",
       "Maximum Open Credit              0\n",
       "Number of Credit Problems        0\n",
       "Months since last delinquent     0\n",
       "Bankruptcies                    14\n",
       "Purpose                          0\n",
       "Term                             0\n",
       "Current Loan Amount              0\n",
       "Current Credit Balance           0\n",
       "Monthly Debt                     0\n",
       "Credit Score                     0\n",
       "Credit Default                   0\n",
       "has_delay                        0\n",
       "unknown_income                   0\n",
       "unknown_credit_score             0\n",
       "dtype: int64"
      ]
     },
     "execution_count": 20,
     "metadata": {},
     "output_type": "execute_result"
    }
   ],
   "source": [
    "df_train.isnull().sum()"
   ]
  },
  {
   "cell_type": "code",
   "execution_count": 21,
   "metadata": {
    "execution": {
     "iopub.execute_input": "2021-03-04T15:42:52.364770Z",
     "iopub.status.busy": "2021-03-04T15:42:52.364136Z",
     "iopub.status.idle": "2021-03-04T15:42:52.401084Z",
     "shell.execute_reply": "2021-03-04T15:42:52.400560Z"
    },
    "papermill": {
     "duration": 0.096956,
     "end_time": "2021-03-04T15:42:52.401235",
     "exception": false,
     "start_time": "2021-03-04T15:42:52.304279",
     "status": "completed"
    },
    "tags": []
   },
   "outputs": [
    {
     "data": {
      "text/html": [
       "<div>\n",
       "<style scoped>\n",
       "    .dataframe tbody tr th:only-of-type {\n",
       "        vertical-align: middle;\n",
       "    }\n",
       "\n",
       "    .dataframe tbody tr th {\n",
       "        vertical-align: top;\n",
       "    }\n",
       "\n",
       "    .dataframe thead th {\n",
       "        text-align: right;\n",
       "    }\n",
       "</style>\n",
       "<table border=\"1\" class=\"dataframe\">\n",
       "  <thead>\n",
       "    <tr style=\"text-align: right;\">\n",
       "      <th></th>\n",
       "      <th>Home Ownership</th>\n",
       "      <th>Annual Income</th>\n",
       "      <th>Years in current job</th>\n",
       "      <th>Tax Liens</th>\n",
       "      <th>Number of Open Accounts</th>\n",
       "      <th>Years of Credit History</th>\n",
       "      <th>Maximum Open Credit</th>\n",
       "      <th>Number of Credit Problems</th>\n",
       "      <th>Months since last delinquent</th>\n",
       "      <th>Bankruptcies</th>\n",
       "      <th>Purpose</th>\n",
       "      <th>Term</th>\n",
       "      <th>Current Loan Amount</th>\n",
       "      <th>Current Credit Balance</th>\n",
       "      <th>Monthly Debt</th>\n",
       "      <th>Credit Score</th>\n",
       "      <th>Credit Default</th>\n",
       "      <th>has_delay</th>\n",
       "      <th>unknown_income</th>\n",
       "      <th>unknown_credit_score</th>\n",
       "    </tr>\n",
       "  </thead>\n",
       "  <tbody>\n",
       "    <tr>\n",
       "      <th>0</th>\n",
       "      <td>Own Home</td>\n",
       "      <td>482087.0</td>\n",
       "      <td>8 years</td>\n",
       "      <td>0.0</td>\n",
       "      <td>11.0</td>\n",
       "      <td>26.3</td>\n",
       "      <td>685960.0</td>\n",
       "      <td>1.0</td>\n",
       "      <td>0.0</td>\n",
       "      <td>1.0</td>\n",
       "      <td>debt consolidation</td>\n",
       "      <td>Short Term</td>\n",
       "      <td>99999999.0</td>\n",
       "      <td>47386.0</td>\n",
       "      <td>7914.0</td>\n",
       "      <td>749.0</td>\n",
       "      <td>0</td>\n",
       "      <td>1</td>\n",
       "      <td>0</td>\n",
       "      <td>0</td>\n",
       "    </tr>\n",
       "    <tr>\n",
       "      <th>1</th>\n",
       "      <td>Own Home</td>\n",
       "      <td>1025487.0</td>\n",
       "      <td>10+ years</td>\n",
       "      <td>0.0</td>\n",
       "      <td>15.0</td>\n",
       "      <td>15.3</td>\n",
       "      <td>1181730.0</td>\n",
       "      <td>0.0</td>\n",
       "      <td>0.0</td>\n",
       "      <td>0.0</td>\n",
       "      <td>debt consolidation</td>\n",
       "      <td>Long Term</td>\n",
       "      <td>264968.0</td>\n",
       "      <td>394972.0</td>\n",
       "      <td>18373.0</td>\n",
       "      <td>737.0</td>\n",
       "      <td>1</td>\n",
       "      <td>1</td>\n",
       "      <td>0</td>\n",
       "      <td>0</td>\n",
       "    </tr>\n",
       "    <tr>\n",
       "      <th>2</th>\n",
       "      <td>Home Mortgage</td>\n",
       "      <td>751412.0</td>\n",
       "      <td>8 years</td>\n",
       "      <td>0.0</td>\n",
       "      <td>11.0</td>\n",
       "      <td>35.0</td>\n",
       "      <td>1182434.0</td>\n",
       "      <td>0.0</td>\n",
       "      <td>0.0</td>\n",
       "      <td>0.0</td>\n",
       "      <td>debt consolidation</td>\n",
       "      <td>Short Term</td>\n",
       "      <td>99999999.0</td>\n",
       "      <td>308389.0</td>\n",
       "      <td>13651.0</td>\n",
       "      <td>742.0</td>\n",
       "      <td>0</td>\n",
       "      <td>1</td>\n",
       "      <td>0</td>\n",
       "      <td>0</td>\n",
       "    </tr>\n",
       "    <tr>\n",
       "      <th>3</th>\n",
       "      <td>Own Home</td>\n",
       "      <td>805068.0</td>\n",
       "      <td>6 years</td>\n",
       "      <td>0.0</td>\n",
       "      <td>8.0</td>\n",
       "      <td>22.5</td>\n",
       "      <td>147400.0</td>\n",
       "      <td>1.0</td>\n",
       "      <td>0.0</td>\n",
       "      <td>1.0</td>\n",
       "      <td>debt consolidation</td>\n",
       "      <td>Short Term</td>\n",
       "      <td>121396.0</td>\n",
       "      <td>95855.0</td>\n",
       "      <td>11338.0</td>\n",
       "      <td>694.0</td>\n",
       "      <td>0</td>\n",
       "      <td>1</td>\n",
       "      <td>0</td>\n",
       "      <td>0</td>\n",
       "    </tr>\n",
       "    <tr>\n",
       "      <th>4</th>\n",
       "      <td>Rent</td>\n",
       "      <td>776264.0</td>\n",
       "      <td>8 years</td>\n",
       "      <td>0.0</td>\n",
       "      <td>13.0</td>\n",
       "      <td>13.6</td>\n",
       "      <td>385836.0</td>\n",
       "      <td>1.0</td>\n",
       "      <td>0.0</td>\n",
       "      <td>0.0</td>\n",
       "      <td>debt consolidation</td>\n",
       "      <td>Short Term</td>\n",
       "      <td>125840.0</td>\n",
       "      <td>93309.0</td>\n",
       "      <td>7180.0</td>\n",
       "      <td>719.0</td>\n",
       "      <td>0</td>\n",
       "      <td>1</td>\n",
       "      <td>0</td>\n",
       "      <td>0</td>\n",
       "    </tr>\n",
       "    <tr>\n",
       "      <th>5</th>\n",
       "      <td>Rent</td>\n",
       "      <td>1168386.0</td>\n",
       "      <td>7 years</td>\n",
       "      <td>0.0</td>\n",
       "      <td>12.0</td>\n",
       "      <td>14.6</td>\n",
       "      <td>366784.0</td>\n",
       "      <td>0.0</td>\n",
       "      <td>0.0</td>\n",
       "      <td>0.0</td>\n",
       "      <td>other</td>\n",
       "      <td>Long Term</td>\n",
       "      <td>337304.0</td>\n",
       "      <td>165680.0</td>\n",
       "      <td>18692.0</td>\n",
       "      <td>731.0</td>\n",
       "      <td>1</td>\n",
       "      <td>1</td>\n",
       "      <td>1</td>\n",
       "      <td>1</td>\n",
       "    </tr>\n",
       "    <tr>\n",
       "      <th>6</th>\n",
       "      <td>Home Mortgage</td>\n",
       "      <td>1511108.0</td>\n",
       "      <td>10+ years</td>\n",
       "      <td>0.0</td>\n",
       "      <td>9.0</td>\n",
       "      <td>20.3</td>\n",
       "      <td>388124.0</td>\n",
       "      <td>0.0</td>\n",
       "      <td>73.0</td>\n",
       "      <td>0.0</td>\n",
       "      <td>home improvements</td>\n",
       "      <td>Short Term</td>\n",
       "      <td>99999999.0</td>\n",
       "      <td>51623.0</td>\n",
       "      <td>2317.0</td>\n",
       "      <td>745.0</td>\n",
       "      <td>0</td>\n",
       "      <td>1</td>\n",
       "      <td>0</td>\n",
       "      <td>0</td>\n",
       "    </tr>\n",
       "    <tr>\n",
       "      <th>7</th>\n",
       "      <td>Rent</td>\n",
       "      <td>1040060.0</td>\n",
       "      <td>10+ years</td>\n",
       "      <td>0.0</td>\n",
       "      <td>13.0</td>\n",
       "      <td>12.0</td>\n",
       "      <td>330374.0</td>\n",
       "      <td>0.0</td>\n",
       "      <td>18.0</td>\n",
       "      <td>0.0</td>\n",
       "      <td>other</td>\n",
       "      <td>Short Term</td>\n",
       "      <td>250888.0</td>\n",
       "      <td>89015.0</td>\n",
       "      <td>19761.0</td>\n",
       "      <td>705.0</td>\n",
       "      <td>1</td>\n",
       "      <td>1</td>\n",
       "      <td>0</td>\n",
       "      <td>0</td>\n",
       "    </tr>\n",
       "    <tr>\n",
       "      <th>8</th>\n",
       "      <td>Home Mortgage</td>\n",
       "      <td>1168386.0</td>\n",
       "      <td>5 years</td>\n",
       "      <td>0.0</td>\n",
       "      <td>17.0</td>\n",
       "      <td>15.7</td>\n",
       "      <td>0.0</td>\n",
       "      <td>1.0</td>\n",
       "      <td>0.0</td>\n",
       "      <td>1.0</td>\n",
       "      <td>home improvements</td>\n",
       "      <td>Short Term</td>\n",
       "      <td>129734.0</td>\n",
       "      <td>19.0</td>\n",
       "      <td>17.0</td>\n",
       "      <td>731.0</td>\n",
       "      <td>0</td>\n",
       "      <td>1</td>\n",
       "      <td>1</td>\n",
       "      <td>1</td>\n",
       "    </tr>\n",
       "    <tr>\n",
       "      <th>9</th>\n",
       "      <td>Home Mortgage</td>\n",
       "      <td>1168386.0</td>\n",
       "      <td>1 year</td>\n",
       "      <td>0.0</td>\n",
       "      <td>10.0</td>\n",
       "      <td>24.6</td>\n",
       "      <td>511302.0</td>\n",
       "      <td>0.0</td>\n",
       "      <td>6.0</td>\n",
       "      <td>0.0</td>\n",
       "      <td>debt consolidation</td>\n",
       "      <td>Long Term</td>\n",
       "      <td>572880.0</td>\n",
       "      <td>205333.0</td>\n",
       "      <td>17613.0</td>\n",
       "      <td>731.0</td>\n",
       "      <td>1</td>\n",
       "      <td>1</td>\n",
       "      <td>1</td>\n",
       "      <td>1</td>\n",
       "    </tr>\n",
       "  </tbody>\n",
       "</table>\n",
       "</div>"
      ],
      "text/plain": [
       "  Home Ownership  Annual Income Years in current job  Tax Liens  \\\n",
       "0       Own Home       482087.0              8 years        0.0   \n",
       "1       Own Home      1025487.0            10+ years        0.0   \n",
       "2  Home Mortgage       751412.0              8 years        0.0   \n",
       "3       Own Home       805068.0              6 years        0.0   \n",
       "4           Rent       776264.0              8 years        0.0   \n",
       "5           Rent      1168386.0              7 years        0.0   \n",
       "6  Home Mortgage      1511108.0            10+ years        0.0   \n",
       "7           Rent      1040060.0            10+ years        0.0   \n",
       "8  Home Mortgage      1168386.0              5 years        0.0   \n",
       "9  Home Mortgage      1168386.0               1 year        0.0   \n",
       "\n",
       "   Number of Open Accounts  Years of Credit History  Maximum Open Credit  \\\n",
       "0                     11.0                     26.3             685960.0   \n",
       "1                     15.0                     15.3            1181730.0   \n",
       "2                     11.0                     35.0            1182434.0   \n",
       "3                      8.0                     22.5             147400.0   \n",
       "4                     13.0                     13.6             385836.0   \n",
       "5                     12.0                     14.6             366784.0   \n",
       "6                      9.0                     20.3             388124.0   \n",
       "7                     13.0                     12.0             330374.0   \n",
       "8                     17.0                     15.7                  0.0   \n",
       "9                     10.0                     24.6             511302.0   \n",
       "\n",
       "   Number of Credit Problems  Months since last delinquent  Bankruptcies  \\\n",
       "0                        1.0                           0.0           1.0   \n",
       "1                        0.0                           0.0           0.0   \n",
       "2                        0.0                           0.0           0.0   \n",
       "3                        1.0                           0.0           1.0   \n",
       "4                        1.0                           0.0           0.0   \n",
       "5                        0.0                           0.0           0.0   \n",
       "6                        0.0                          73.0           0.0   \n",
       "7                        0.0                          18.0           0.0   \n",
       "8                        1.0                           0.0           1.0   \n",
       "9                        0.0                           6.0           0.0   \n",
       "\n",
       "              Purpose        Term  Current Loan Amount  \\\n",
       "0  debt consolidation  Short Term           99999999.0   \n",
       "1  debt consolidation   Long Term             264968.0   \n",
       "2  debt consolidation  Short Term           99999999.0   \n",
       "3  debt consolidation  Short Term             121396.0   \n",
       "4  debt consolidation  Short Term             125840.0   \n",
       "5               other   Long Term             337304.0   \n",
       "6   home improvements  Short Term           99999999.0   \n",
       "7               other  Short Term             250888.0   \n",
       "8   home improvements  Short Term             129734.0   \n",
       "9  debt consolidation   Long Term             572880.0   \n",
       "\n",
       "   Current Credit Balance  Monthly Debt  Credit Score  Credit Default  \\\n",
       "0                 47386.0        7914.0         749.0               0   \n",
       "1                394972.0       18373.0         737.0               1   \n",
       "2                308389.0       13651.0         742.0               0   \n",
       "3                 95855.0       11338.0         694.0               0   \n",
       "4                 93309.0        7180.0         719.0               0   \n",
       "5                165680.0       18692.0         731.0               1   \n",
       "6                 51623.0        2317.0         745.0               0   \n",
       "7                 89015.0       19761.0         705.0               1   \n",
       "8                    19.0          17.0         731.0               0   \n",
       "9                205333.0       17613.0         731.0               1   \n",
       "\n",
       "   has_delay  unknown_income  unknown_credit_score  \n",
       "0          1               0                     0  \n",
       "1          1               0                     0  \n",
       "2          1               0                     0  \n",
       "3          1               0                     0  \n",
       "4          1               0                     0  \n",
       "5          1               1                     1  \n",
       "6          1               0                     0  \n",
       "7          1               0                     0  \n",
       "8          1               1                     1  \n",
       "9          1               1                     1  "
      ]
     },
     "execution_count": 21,
     "metadata": {},
     "output_type": "execute_result"
    }
   ],
   "source": [
    "df_train.head(10)"
   ]
  },
  {
   "cell_type": "markdown",
   "metadata": {
    "papermill": {
     "duration": 0.057425,
     "end_time": "2021-03-04T15:42:52.516748",
     "exception": false,
     "start_time": "2021-03-04T15:42:52.459323",
     "status": "completed"
    },
    "tags": []
   },
   "source": [
    "Обработка Current Loan Amount"
   ]
  },
  {
   "cell_type": "code",
   "execution_count": 22,
   "metadata": {
    "execution": {
     "iopub.execute_input": "2021-03-04T15:42:52.640146Z",
     "iopub.status.busy": "2021-03-04T15:42:52.638833Z",
     "iopub.status.idle": "2021-03-04T15:42:52.644088Z",
     "shell.execute_reply": "2021-03-04T15:42:52.643530Z"
    },
    "papermill": {
     "duration": 0.068351,
     "end_time": "2021-03-04T15:42:52.644243",
     "exception": false,
     "start_time": "2021-03-04T15:42:52.575892",
     "status": "completed"
    },
    "tags": []
   },
   "outputs": [],
   "source": [
    "# 99999999.0 в Current Loan Amount заменяются на медианные\n",
    "median_current_loan_amount = df_train['Current Loan Amount'].median()\n",
    "df_train.loc[(df_train['Current Loan Amount'] == 99999999.0), 'Current Loan Amount'] = median_current_loan_amount"
   ]
  },
  {
   "cell_type": "markdown",
   "metadata": {
    "papermill": {
     "duration": 0.057567,
     "end_time": "2021-03-04T15:42:52.759913",
     "exception": false,
     "start_time": "2021-03-04T15:42:52.702346",
     "status": "completed"
    },
    "tags": []
   },
   "source": [
    "Обработка Bankruptcies"
   ]
  },
  {
   "cell_type": "code",
   "execution_count": 23,
   "metadata": {
    "execution": {
     "iopub.execute_input": "2021-03-04T15:42:52.880935Z",
     "iopub.status.busy": "2021-03-04T15:42:52.880263Z",
     "iopub.status.idle": "2021-03-04T15:42:52.887249Z",
     "shell.execute_reply": "2021-03-04T15:42:52.887780Z"
    },
    "papermill": {
     "duration": 0.069375,
     "end_time": "2021-03-04T15:42:52.887951",
     "exception": false,
     "start_time": "2021-03-04T15:42:52.818576",
     "status": "completed"
    },
    "tags": []
   },
   "outputs": [
    {
     "data": {
      "text/plain": [
       "0.0    6660\n",
       "1.0     786\n",
       "2.0      31\n",
       "3.0       7\n",
       "4.0       2\n",
       "Name: Bankruptcies, dtype: int64"
      ]
     },
     "execution_count": 23,
     "metadata": {},
     "output_type": "execute_result"
    }
   ],
   "source": [
    "df_train.Bankruptcies.value_counts()"
   ]
  },
  {
   "cell_type": "code",
   "execution_count": 24,
   "metadata": {
    "execution": {
     "iopub.execute_input": "2021-03-04T15:42:53.008922Z",
     "iopub.status.busy": "2021-03-04T15:42:53.008229Z",
     "iopub.status.idle": "2021-03-04T15:42:53.012411Z",
     "shell.execute_reply": "2021-03-04T15:42:53.012896Z"
    },
    "papermill": {
     "duration": 0.066577,
     "end_time": "2021-03-04T15:42:53.013097",
     "exception": false,
     "start_time": "2021-03-04T15:42:52.946520",
     "status": "completed"
    },
    "tags": []
   },
   "outputs": [],
   "source": [
    "df_train['Bankruptcies'].fillna(0 , inplace=True)"
   ]
  },
  {
   "cell_type": "code",
   "execution_count": 25,
   "metadata": {
    "execution": {
     "iopub.execute_input": "2021-03-04T15:42:53.140750Z",
     "iopub.status.busy": "2021-03-04T15:42:53.139626Z",
     "iopub.status.idle": "2021-03-04T15:42:53.144854Z",
     "shell.execute_reply": "2021-03-04T15:42:53.144243Z"
    },
    "papermill": {
     "duration": 0.073685,
     "end_time": "2021-03-04T15:42:53.145033",
     "exception": false,
     "start_time": "2021-03-04T15:42:53.071348",
     "status": "completed"
    },
    "tags": []
   },
   "outputs": [
    {
     "data": {
      "text/plain": [
       "0.0    6674\n",
       "1.0     786\n",
       "2.0      31\n",
       "3.0       7\n",
       "4.0       2\n",
       "Name: Bankruptcies, dtype: int64"
      ]
     },
     "execution_count": 25,
     "metadata": {},
     "output_type": "execute_result"
    }
   ],
   "source": [
    "df_train.Bankruptcies.value_counts()"
   ]
  },
  {
   "cell_type": "code",
   "execution_count": 26,
   "metadata": {
    "execution": {
     "iopub.execute_input": "2021-03-04T15:42:53.274565Z",
     "iopub.status.busy": "2021-03-04T15:42:53.270347Z",
     "iopub.status.idle": "2021-03-04T15:42:53.282547Z",
     "shell.execute_reply": "2021-03-04T15:42:53.282007Z"
    },
    "papermill": {
     "duration": 0.077771,
     "end_time": "2021-03-04T15:42:53.282708",
     "exception": false,
     "start_time": "2021-03-04T15:42:53.204937",
     "status": "completed"
    },
    "tags": []
   },
   "outputs": [
    {
     "data": {
      "text/plain": [
       "Home Ownership                  0\n",
       "Annual Income                   0\n",
       "Years in current job            0\n",
       "Tax Liens                       0\n",
       "Number of Open Accounts         0\n",
       "Years of Credit History         0\n",
       "Maximum Open Credit             0\n",
       "Number of Credit Problems       0\n",
       "Months since last delinquent    0\n",
       "Bankruptcies                    0\n",
       "Purpose                         0\n",
       "Term                            0\n",
       "Current Loan Amount             0\n",
       "Current Credit Balance          0\n",
       "Monthly Debt                    0\n",
       "Credit Score                    0\n",
       "Credit Default                  0\n",
       "has_delay                       0\n",
       "unknown_income                  0\n",
       "unknown_credit_score            0\n",
       "dtype: int64"
      ]
     },
     "execution_count": 26,
     "metadata": {},
     "output_type": "execute_result"
    }
   ],
   "source": [
    "df_train.isnull().sum()"
   ]
  },
  {
   "cell_type": "code",
   "execution_count": 27,
   "metadata": {
    "execution": {
     "iopub.execute_input": "2021-03-04T15:42:53.405949Z",
     "iopub.status.busy": "2021-03-04T15:42:53.404923Z",
     "iopub.status.idle": "2021-03-04T15:42:53.428039Z",
     "shell.execute_reply": "2021-03-04T15:42:53.428810Z"
    },
    "papermill": {
     "duration": 0.086897,
     "end_time": "2021-03-04T15:42:53.429068",
     "exception": false,
     "start_time": "2021-03-04T15:42:53.342171",
     "status": "completed"
    },
    "tags": []
   },
   "outputs": [
    {
     "name": "stdout",
     "output_type": "stream",
     "text": [
      "Home Ownership\n",
      "\n",
      "Home Mortgage    3637\n",
      "Rent             3204\n",
      "Own Home          647\n",
      "Have Mortgage      12\n",
      "Name: Home Ownership, dtype: int64\n",
      "****************************************************************************************************\n",
      "\n",
      "Years in current job\n",
      "\n",
      "10+ years    2332\n",
      "8 years       710\n",
      "2 years       705\n",
      "3 years       620\n",
      "< 1 year      563\n",
      "5 years       516\n",
      "1 year        504\n",
      "4 years       469\n",
      "6 years       426\n",
      "7 years       396\n",
      "9 years       259\n",
      "Name: Years in current job, dtype: int64\n",
      "****************************************************************************************************\n",
      "\n",
      "Purpose\n",
      "\n",
      "debt consolidation      5944\n",
      "other                    665\n",
      "home improvements        412\n",
      "business loan            129\n",
      "buy a car                 96\n",
      "medical bills             71\n",
      "major purchase            40\n",
      "take a trip               37\n",
      "buy house                 34\n",
      "small business            26\n",
      "wedding                   15\n",
      "moving                    11\n",
      "educational expenses      10\n",
      "vacation                   8\n",
      "renewable energy           2\n",
      "Name: Purpose, dtype: int64\n",
      "****************************************************************************************************\n",
      "\n",
      "Term\n",
      "\n",
      "Short Term    5556\n",
      "Long Term     1944\n",
      "Name: Term, dtype: int64\n",
      "****************************************************************************************************\n",
      "\n"
     ]
    }
   ],
   "source": [
    "for cat_colname in df_train.select_dtypes(include='object').columns:\n",
    "    print(str(cat_colname) + '\\n\\n' + str(df_train[cat_colname].value_counts()) + '\\n' + '*' * 100 + '\\n')"
   ]
  },
  {
   "cell_type": "markdown",
   "metadata": {
    "papermill": {
     "duration": 0.059697,
     "end_time": "2021-03-04T15:42:53.549272",
     "exception": false,
     "start_time": "2021-03-04T15:42:53.489575",
     "status": "completed"
    },
    "tags": []
   },
   "source": [
    "Обработка Term"
   ]
  },
  {
   "cell_type": "code",
   "execution_count": 28,
   "metadata": {
    "execution": {
     "iopub.execute_input": "2021-03-04T15:42:53.673755Z",
     "iopub.status.busy": "2021-03-04T15:42:53.672751Z",
     "iopub.status.idle": "2021-03-04T15:42:53.682004Z",
     "shell.execute_reply": "2021-03-04T15:42:53.682586Z"
    },
    "papermill": {
     "duration": 0.073213,
     "end_time": "2021-03-04T15:42:53.682763",
     "exception": false,
     "start_time": "2021-03-04T15:42:53.609550",
     "status": "completed"
    },
    "tags": []
   },
   "outputs": [],
   "source": [
    "df_train['term_binary'] = df_train['Term'].map({'Short Term':'1', 'Long Term':'0'}).astype(int)\n",
    "NEW_FEATURE_NAMES = ['has_delay','unknown_income','unknown_credit_score','term_binary']"
   ]
  },
  {
   "cell_type": "code",
   "execution_count": 29,
   "metadata": {
    "execution": {
     "iopub.execute_input": "2021-03-04T15:42:53.810803Z",
     "iopub.status.busy": "2021-03-04T15:42:53.809802Z",
     "iopub.status.idle": "2021-03-04T15:42:53.818682Z",
     "shell.execute_reply": "2021-03-04T15:42:53.819175Z"
    },
    "papermill": {
     "duration": 0.074917,
     "end_time": "2021-03-04T15:42:53.819361",
     "exception": false,
     "start_time": "2021-03-04T15:42:53.744444",
     "status": "completed"
    },
    "tags": []
   },
   "outputs": [
    {
     "data": {
      "text/plain": [
       "Index(['Years in current job', 'Purpose', 'Term'], dtype='object')"
      ]
     },
     "execution_count": 29,
     "metadata": {},
     "output_type": "execute_result"
    }
   ],
   "source": [
    "df_train.select_dtypes(include='object').columns[1:]"
   ]
  },
  {
   "cell_type": "code",
   "execution_count": 30,
   "metadata": {
    "execution": {
     "iopub.execute_input": "2021-03-04T15:42:53.945671Z",
     "iopub.status.busy": "2021-03-04T15:42:53.944694Z",
     "iopub.status.idle": "2021-03-04T15:42:54.242508Z",
     "shell.execute_reply": "2021-03-04T15:42:54.241914Z"
    },
    "papermill": {
     "duration": 0.362974,
     "end_time": "2021-03-04T15:42:54.242670",
     "exception": false,
     "start_time": "2021-03-04T15:42:53.879696",
     "status": "completed"
    },
    "tags": []
   },
   "outputs": [
    {
     "data": {
      "image/png": "[encoded data removed]",
      "text/plain": [
       "<Figure size 720x576 with 1 Axes>"
      ]
     },
     "metadata": {
      "needs_background": "light"
     },
     "output_type": "display_data"
    }
   ],
   "source": [
    "corr_with_target = df_train[BASE_FEATURE_NAMES + \n",
    "                            NEW_FEATURE_NAMES + \n",
    "                            [TARGET_NAME]].corr().iloc[:-1, -1].sort_values(ascending=False)\n",
    "\n",
    "plt.figure(figsize=(10, 8))\n",
    "\n",
    "sns.barplot(x=corr_with_target.values, y=corr_with_target.index)\n",
    "\n",
    "plt.title('Correlation with target variable')\n",
    "plt.show()"
   ]
  },
  {
   "cell_type": "code",
   "execution_count": 31,
   "metadata": {
    "execution": {
     "iopub.execute_input": "2021-03-04T15:42:54.388461Z",
     "iopub.status.busy": "2021-03-04T15:42:54.387454Z",
     "iopub.status.idle": "2021-03-04T15:42:54.390341Z",
     "shell.execute_reply": "2021-03-04T15:42:54.390811Z"
    },
    "papermill": {
     "duration": 0.07703,
     "end_time": "2021-03-04T15:42:54.391131",
     "exception": false,
     "start_time": "2021-03-04T15:42:54.314101",
     "status": "completed"
    },
    "tags": []
   },
   "outputs": [],
   "source": [
    "def get_classification_report(y_train_true, y_train_pred, y_test_true, y_test_pred):\n",
    "    print('TRAIN\\n\\n' + classification_report(y_train_true, y_train_pred))\n",
    "    print('TEST\\n\\n' + classification_report(y_test_true, y_test_pred))\n",
    "    print('CONFUSION MATRIX\\n')\n",
    "    print(pd.crosstab(y_test_true, y_test_pred))"
   ]
  },
  {
   "cell_type": "code",
   "execution_count": 32,
   "metadata": {
    "execution": {
     "iopub.execute_input": "2021-03-04T15:42:54.528961Z",
     "iopub.status.busy": "2021-03-04T15:42:54.528289Z",
     "iopub.status.idle": "2021-03-04T15:42:54.531393Z",
     "shell.execute_reply": "2021-03-04T15:42:54.530728Z"
    },
    "papermill": {
     "duration": 0.073049,
     "end_time": "2021-03-04T15:42:54.531545",
     "exception": false,
     "start_time": "2021-03-04T15:42:54.458496",
     "status": "completed"
    },
    "tags": []
   },
   "outputs": [],
   "source": [
    "def balance_df_by_target(df, target_name):\n",
    "\n",
    "    target_counts = df[target_name].value_counts()\n",
    "\n",
    "    major_class_name = target_counts.argmax()\n",
    "    minor_class_name = target_counts.argmin()\n",
    "\n",
    "    disbalance_coeff = int(target_counts[major_class_name] / target_counts[minor_class_name]) - 1\n",
    "\n",
    "    for i in range(disbalance_coeff):\n",
    "        sample = df[df[target_name] == minor_class_name].sample(target_counts[minor_class_name])\n",
    "        df = df.append(sample, ignore_index=True)\n",
    "\n",
    "    return df.sample(frac=1) "
   ]
  },
  {
   "cell_type": "markdown",
   "metadata": {
    "papermill": {
     "duration": 0.063235,
     "end_time": "2021-03-04T15:42:54.656657",
     "exception": false,
     "start_time": "2021-03-04T15:42:54.593422",
     "status": "completed"
    },
    "tags": []
   },
   "source": [
    "### Подбор моделей, получение бейзлана"
   ]
  },
  {
   "cell_type": "code",
   "execution_count": 33,
   "metadata": {
    "execution": {
     "iopub.execute_input": "2021-03-04T15:42:54.784423Z",
     "iopub.status.busy": "2021-03-04T15:42:54.783709Z",
     "iopub.status.idle": "2021-03-04T15:42:54.821925Z",
     "shell.execute_reply": "2021-03-04T15:42:54.822501Z"
    },
    "papermill": {
     "duration": 0.104004,
     "end_time": "2021-03-04T15:42:54.822692",
     "exception": false,
     "start_time": "2021-03-04T15:42:54.718688",
     "status": "completed"
    },
    "tags": []
   },
   "outputs": [
    {
     "data": {
      "text/html": [
       "<div>\n",
       "<style scoped>\n",
       "    .dataframe tbody tr th:only-of-type {\n",
       "        vertical-align: middle;\n",
       "    }\n",
       "\n",
       "    .dataframe tbody tr th {\n",
       "        vertical-align: top;\n",
       "    }\n",
       "\n",
       "    .dataframe thead th {\n",
       "        text-align: right;\n",
       "    }\n",
       "</style>\n",
       "<table border=\"1\" class=\"dataframe\">\n",
       "  <thead>\n",
       "    <tr style=\"text-align: right;\">\n",
       "      <th></th>\n",
       "      <th>Home Ownership</th>\n",
       "      <th>Annual Income</th>\n",
       "      <th>Years in current job</th>\n",
       "      <th>Tax Liens</th>\n",
       "      <th>Number of Open Accounts</th>\n",
       "      <th>Years of Credit History</th>\n",
       "      <th>Maximum Open Credit</th>\n",
       "      <th>Number of Credit Problems</th>\n",
       "      <th>Months since last delinquent</th>\n",
       "      <th>Bankruptcies</th>\n",
       "      <th>...</th>\n",
       "      <th>Term</th>\n",
       "      <th>Current Loan Amount</th>\n",
       "      <th>Current Credit Balance</th>\n",
       "      <th>Monthly Debt</th>\n",
       "      <th>Credit Score</th>\n",
       "      <th>Credit Default</th>\n",
       "      <th>has_delay</th>\n",
       "      <th>unknown_income</th>\n",
       "      <th>unknown_credit_score</th>\n",
       "      <th>term_binary</th>\n",
       "    </tr>\n",
       "  </thead>\n",
       "  <tbody>\n",
       "    <tr>\n",
       "      <th>0</th>\n",
       "      <td>Own Home</td>\n",
       "      <td>482087.0</td>\n",
       "      <td>8 years</td>\n",
       "      <td>0.0</td>\n",
       "      <td>11.0</td>\n",
       "      <td>26.3</td>\n",
       "      <td>685960.0</td>\n",
       "      <td>1.0</td>\n",
       "      <td>0.0</td>\n",
       "      <td>1.0</td>\n",
       "      <td>...</td>\n",
       "      <td>Short Term</td>\n",
       "      <td>309573.0</td>\n",
       "      <td>47386.0</td>\n",
       "      <td>7914.0</td>\n",
       "      <td>749.0</td>\n",
       "      <td>0</td>\n",
       "      <td>1</td>\n",
       "      <td>0</td>\n",
       "      <td>0</td>\n",
       "      <td>1</td>\n",
       "    </tr>\n",
       "    <tr>\n",
       "      <th>1</th>\n",
       "      <td>Own Home</td>\n",
       "      <td>1025487.0</td>\n",
       "      <td>10+ years</td>\n",
       "      <td>0.0</td>\n",
       "      <td>15.0</td>\n",
       "      <td>15.3</td>\n",
       "      <td>1181730.0</td>\n",
       "      <td>0.0</td>\n",
       "      <td>0.0</td>\n",
       "      <td>0.0</td>\n",
       "      <td>...</td>\n",
       "      <td>Long Term</td>\n",
       "      <td>264968.0</td>\n",
       "      <td>394972.0</td>\n",
       "      <td>18373.0</td>\n",
       "      <td>737.0</td>\n",
       "      <td>1</td>\n",
       "      <td>1</td>\n",
       "      <td>0</td>\n",
       "      <td>0</td>\n",
       "      <td>0</td>\n",
       "    </tr>\n",
       "    <tr>\n",
       "      <th>2</th>\n",
       "      <td>Home Mortgage</td>\n",
       "      <td>751412.0</td>\n",
       "      <td>8 years</td>\n",
       "      <td>0.0</td>\n",
       "      <td>11.0</td>\n",
       "      <td>35.0</td>\n",
       "      <td>1182434.0</td>\n",
       "      <td>0.0</td>\n",
       "      <td>0.0</td>\n",
       "      <td>0.0</td>\n",
       "      <td>...</td>\n",
       "      <td>Short Term</td>\n",
       "      <td>309573.0</td>\n",
       "      <td>308389.0</td>\n",
       "      <td>13651.0</td>\n",
       "      <td>742.0</td>\n",
       "      <td>0</td>\n",
       "      <td>1</td>\n",
       "      <td>0</td>\n",
       "      <td>0</td>\n",
       "      <td>1</td>\n",
       "    </tr>\n",
       "    <tr>\n",
       "      <th>3</th>\n",
       "      <td>Own Home</td>\n",
       "      <td>805068.0</td>\n",
       "      <td>6 years</td>\n",
       "      <td>0.0</td>\n",
       "      <td>8.0</td>\n",
       "      <td>22.5</td>\n",
       "      <td>147400.0</td>\n",
       "      <td>1.0</td>\n",
       "      <td>0.0</td>\n",
       "      <td>1.0</td>\n",
       "      <td>...</td>\n",
       "      <td>Short Term</td>\n",
       "      <td>121396.0</td>\n",
       "      <td>95855.0</td>\n",
       "      <td>11338.0</td>\n",
       "      <td>694.0</td>\n",
       "      <td>0</td>\n",
       "      <td>1</td>\n",
       "      <td>0</td>\n",
       "      <td>0</td>\n",
       "      <td>1</td>\n",
       "    </tr>\n",
       "    <tr>\n",
       "      <th>4</th>\n",
       "      <td>Rent</td>\n",
       "      <td>776264.0</td>\n",
       "      <td>8 years</td>\n",
       "      <td>0.0</td>\n",
       "      <td>13.0</td>\n",
       "      <td>13.6</td>\n",
       "      <td>385836.0</td>\n",
       "      <td>1.0</td>\n",
       "      <td>0.0</td>\n",
       "      <td>0.0</td>\n",
       "      <td>...</td>\n",
       "      <td>Short Term</td>\n",
       "      <td>125840.0</td>\n",
       "      <td>93309.0</td>\n",
       "      <td>7180.0</td>\n",
       "      <td>719.0</td>\n",
       "      <td>0</td>\n",
       "      <td>1</td>\n",
       "      <td>0</td>\n",
       "      <td>0</td>\n",
       "      <td>1</td>\n",
       "    </tr>\n",
       "    <tr>\n",
       "      <th>5</th>\n",
       "      <td>Rent</td>\n",
       "      <td>1168386.0</td>\n",
       "      <td>7 years</td>\n",
       "      <td>0.0</td>\n",
       "      <td>12.0</td>\n",
       "      <td>14.6</td>\n",
       "      <td>366784.0</td>\n",
       "      <td>0.0</td>\n",
       "      <td>0.0</td>\n",
       "      <td>0.0</td>\n",
       "      <td>...</td>\n",
       "      <td>Long Term</td>\n",
       "      <td>337304.0</td>\n",
       "      <td>165680.0</td>\n",
       "      <td>18692.0</td>\n",
       "      <td>731.0</td>\n",
       "      <td>1</td>\n",
       "      <td>1</td>\n",
       "      <td>1</td>\n",
       "      <td>1</td>\n",
       "      <td>0</td>\n",
       "    </tr>\n",
       "    <tr>\n",
       "      <th>6</th>\n",
       "      <td>Home Mortgage</td>\n",
       "      <td>1511108.0</td>\n",
       "      <td>10+ years</td>\n",
       "      <td>0.0</td>\n",
       "      <td>9.0</td>\n",
       "      <td>20.3</td>\n",
       "      <td>388124.0</td>\n",
       "      <td>0.0</td>\n",
       "      <td>73.0</td>\n",
       "      <td>0.0</td>\n",
       "      <td>...</td>\n",
       "      <td>Short Term</td>\n",
       "      <td>309573.0</td>\n",
       "      <td>51623.0</td>\n",
       "      <td>2317.0</td>\n",
       "      <td>745.0</td>\n",
       "      <td>0</td>\n",
       "      <td>1</td>\n",
       "      <td>0</td>\n",
       "      <td>0</td>\n",
       "      <td>1</td>\n",
       "    </tr>\n",
       "    <tr>\n",
       "      <th>7</th>\n",
       "      <td>Rent</td>\n",
       "      <td>1040060.0</td>\n",
       "      <td>10+ years</td>\n",
       "      <td>0.0</td>\n",
       "      <td>13.0</td>\n",
       "      <td>12.0</td>\n",
       "      <td>330374.0</td>\n",
       "      <td>0.0</td>\n",
       "      <td>18.0</td>\n",
       "      <td>0.0</td>\n",
       "      <td>...</td>\n",
       "      <td>Short Term</td>\n",
       "      <td>250888.0</td>\n",
       "      <td>89015.0</td>\n",
       "      <td>19761.0</td>\n",
       "      <td>705.0</td>\n",
       "      <td>1</td>\n",
       "      <td>1</td>\n",
       "      <td>0</td>\n",
       "      <td>0</td>\n",
       "      <td>1</td>\n",
       "    </tr>\n",
       "    <tr>\n",
       "      <th>8</th>\n",
       "      <td>Home Mortgage</td>\n",
       "      <td>1168386.0</td>\n",
       "      <td>5 years</td>\n",
       "      <td>0.0</td>\n",
       "      <td>17.0</td>\n",
       "      <td>15.7</td>\n",
       "      <td>0.0</td>\n",
       "      <td>1.0</td>\n",
       "      <td>0.0</td>\n",
       "      <td>1.0</td>\n",
       "      <td>...</td>\n",
       "      <td>Short Term</td>\n",
       "      <td>129734.0</td>\n",
       "      <td>19.0</td>\n",
       "      <td>17.0</td>\n",
       "      <td>731.0</td>\n",
       "      <td>0</td>\n",
       "      <td>1</td>\n",
       "      <td>1</td>\n",
       "      <td>1</td>\n",
       "      <td>1</td>\n",
       "    </tr>\n",
       "    <tr>\n",
       "      <th>9</th>\n",
       "      <td>Home Mortgage</td>\n",
       "      <td>1168386.0</td>\n",
       "      <td>1 year</td>\n",
       "      <td>0.0</td>\n",
       "      <td>10.0</td>\n",
       "      <td>24.6</td>\n",
       "      <td>511302.0</td>\n",
       "      <td>0.0</td>\n",
       "      <td>6.0</td>\n",
       "      <td>0.0</td>\n",
       "      <td>...</td>\n",
       "      <td>Long Term</td>\n",
       "      <td>572880.0</td>\n",
       "      <td>205333.0</td>\n",
       "      <td>17613.0</td>\n",
       "      <td>731.0</td>\n",
       "      <td>1</td>\n",
       "      <td>1</td>\n",
       "      <td>1</td>\n",
       "      <td>1</td>\n",
       "      <td>0</td>\n",
       "    </tr>\n",
       "  </tbody>\n",
       "</table>\n",
       "<p>10 rows × 21 columns</p>\n",
       "</div>"
      ],
      "text/plain": [
       "  Home Ownership  Annual Income Years in current job  Tax Liens  \\\n",
       "0       Own Home       482087.0              8 years        0.0   \n",
       "1       Own Home      1025487.0            10+ years        0.0   \n",
       "2  Home Mortgage       751412.0              8 years        0.0   \n",
       "3       Own Home       805068.0              6 years        0.0   \n",
       "4           Rent       776264.0              8 years        0.0   \n",
       "5           Rent      1168386.0              7 years        0.0   \n",
       "6  Home Mortgage      1511108.0            10+ years        0.0   \n",
       "7           Rent      1040060.0            10+ years        0.0   \n",
       "8  Home Mortgage      1168386.0              5 years        0.0   \n",
       "9  Home Mortgage      1168386.0               1 year        0.0   \n",
       "\n",
       "   Number of Open Accounts  Years of Credit History  Maximum Open Credit  \\\n",
       "0                     11.0                     26.3             685960.0   \n",
       "1                     15.0                     15.3            1181730.0   \n",
       "2                     11.0                     35.0            1182434.0   \n",
       "3                      8.0                     22.5             147400.0   \n",
       "4                     13.0                     13.6             385836.0   \n",
       "5                     12.0                     14.6             366784.0   \n",
       "6                      9.0                     20.3             388124.0   \n",
       "7                     13.0                     12.0             330374.0   \n",
       "8                     17.0                     15.7                  0.0   \n",
       "9                     10.0                     24.6             511302.0   \n",
       "\n",
       "   Number of Credit Problems  Months since last delinquent  Bankruptcies  ...  \\\n",
       "0                        1.0                           0.0           1.0  ...   \n",
       "1                        0.0                           0.0           0.0  ...   \n",
       "2                        0.0                           0.0           0.0  ...   \n",
       "3                        1.0                           0.0           1.0  ...   \n",
       "4                        1.0                           0.0           0.0  ...   \n",
       "5                        0.0                           0.0           0.0  ...   \n",
       "6                        0.0                          73.0           0.0  ...   \n",
       "7                        0.0                          18.0           0.0  ...   \n",
       "8                        1.0                           0.0           1.0  ...   \n",
       "9                        0.0                           6.0           0.0  ...   \n",
       "\n",
       "         Term Current Loan Amount  Current Credit Balance  Monthly Debt  \\\n",
       "0  Short Term            309573.0                 47386.0        7914.0   \n",
       "1   Long Term            264968.0                394972.0       18373.0   \n",
       "2  Short Term            309573.0                308389.0       13651.0   \n",
       "3  Short Term            121396.0                 95855.0       11338.0   \n",
       "4  Short Term            125840.0                 93309.0        7180.0   \n",
       "5   Long Term            337304.0                165680.0       18692.0   \n",
       "6  Short Term            309573.0                 51623.0        2317.0   \n",
       "7  Short Term            250888.0                 89015.0       19761.0   \n",
       "8  Short Term            129734.0                    19.0          17.0   \n",
       "9   Long Term            572880.0                205333.0       17613.0   \n",
       "\n",
       "   Credit Score  Credit Default  has_delay  unknown_income  \\\n",
       "0         749.0               0          1               0   \n",
       "1         737.0               1          1               0   \n",
       "2         742.0               0          1               0   \n",
       "3         694.0               0          1               0   \n",
       "4         719.0               0          1               0   \n",
       "5         731.0               1          1               1   \n",
       "6         745.0               0          1               0   \n",
       "7         705.0               1          1               0   \n",
       "8         731.0               0          1               1   \n",
       "9         731.0               1          1               1   \n",
       "\n",
       "   unknown_credit_score  term_binary  \n",
       "0                     0            1  \n",
       "1                     0            0  \n",
       "2                     0            1  \n",
       "3                     0            1  \n",
       "4                     0            1  \n",
       "5                     1            0  \n",
       "6                     0            1  \n",
       "7                     0            1  \n",
       "8                     1            1  \n",
       "9                     1            0  \n",
       "\n",
       "[10 rows x 21 columns]"
      ]
     },
     "execution_count": 33,
     "metadata": {},
     "output_type": "execute_result"
    }
   ],
   "source": [
    "df_train.head(10)"
   ]
  },
  {
   "cell_type": "code",
   "execution_count": 34,
   "metadata": {
    "execution": {
     "iopub.execute_input": "2021-03-04T15:42:54.954325Z",
     "iopub.status.busy": "2021-03-04T15:42:54.953293Z",
     "iopub.status.idle": "2021-03-04T15:42:54.958546Z",
     "shell.execute_reply": "2021-03-04T15:42:54.959084Z"
    },
    "papermill": {
     "duration": 0.073365,
     "end_time": "2021-03-04T15:42:54.959266",
     "exception": false,
     "start_time": "2021-03-04T15:42:54.885901",
     "status": "completed"
    },
    "tags": []
   },
   "outputs": [
    {
     "data": {
      "text/plain": [
       "['has_delay', 'unknown_income', 'unknown_credit_score', 'term_binary']"
      ]
     },
     "execution_count": 34,
     "metadata": {},
     "output_type": "execute_result"
    }
   ],
   "source": [
    "NEW_FEATURE_NAMES"
   ]
  },
  {
   "cell_type": "code",
   "execution_count": 35,
   "metadata": {
    "execution": {
     "iopub.execute_input": "2021-03-04T15:42:55.090816Z",
     "iopub.status.busy": "2021-03-04T15:42:55.089777Z",
     "iopub.status.idle": "2021-03-04T15:42:55.099693Z",
     "shell.execute_reply": "2021-03-04T15:42:55.100250Z"
    },
    "papermill": {
     "duration": 0.077777,
     "end_time": "2021-03-04T15:42:55.100429",
     "exception": false,
     "start_time": "2021-03-04T15:42:55.022652",
     "status": "completed"
    },
    "tags": []
   },
   "outputs": [],
   "source": [
    "SELECTED_FEATURE_NAMES = NUMB_FEATURE_NAMES + NEW_FEATURE_NAMES\n",
    "\n",
    "\n",
    "X = df_train[SELECTED_FEATURE_NAMES]\n",
    "y = df_train[TARGET_NAME]\n",
    "\n",
    "X_train, X_test, y_train, y_test = train_test_split(X, y, shuffle=True, test_size=0.30, random_state=11)"
   ]
  },
  {
   "cell_type": "markdown",
   "metadata": {
    "papermill": {
     "duration": 0.063672,
     "end_time": "2021-03-04T15:42:55.229586",
     "exception": false,
     "start_time": "2021-03-04T15:42:55.165914",
     "status": "completed"
    },
    "tags": []
   },
   "source": [
    "Нормализация"
   ]
  },
  {
   "cell_type": "code",
   "execution_count": 36,
   "metadata": {
    "execution": {
     "iopub.execute_input": "2021-03-04T15:42:55.361626Z",
     "iopub.status.busy": "2021-03-04T15:42:55.360626Z",
     "iopub.status.idle": "2021-03-04T15:42:55.400579Z",
     "shell.execute_reply": "2021-03-04T15:42:55.401155Z"
    },
    "papermill": {
     "duration": 0.108137,
     "end_time": "2021-03-04T15:42:55.401349",
     "exception": false,
     "start_time": "2021-03-04T15:42:55.293212",
     "status": "completed"
    },
    "tags": []
   },
   "outputs": [],
   "source": [
    "scaler = StandardScaler()\n",
    "\n",
    "df_norm = df_train.copy()\n",
    "df_norm[NUMB_FEATURE_NAMES] = scaler.fit_transform(df_norm[NUMB_FEATURE_NAMES])\n",
    "\n",
    "df_train = df_norm.copy()"
   ]
  },
  {
   "cell_type": "markdown",
   "metadata": {
    "papermill": {
     "duration": 0.064058,
     "end_time": "2021-03-04T15:42:55.529326",
     "exception": false,
     "start_time": "2021-03-04T15:42:55.465268",
     "status": "completed"
    },
    "tags": []
   },
   "source": [
    "Балансировка"
   ]
  },
  {
   "cell_type": "code",
   "execution_count": 37,
   "metadata": {
    "execution": {
     "iopub.execute_input": "2021-03-04T15:42:55.661795Z",
     "iopub.status.busy": "2021-03-04T15:42:55.660806Z",
     "iopub.status.idle": "2021-03-04T15:42:55.680183Z",
     "shell.execute_reply": "2021-03-04T15:42:55.679581Z"
    },
    "papermill": {
     "duration": 0.086773,
     "end_time": "2021-03-04T15:42:55.680334",
     "exception": false,
     "start_time": "2021-03-04T15:42:55.593561",
     "status": "completed"
    },
    "tags": []
   },
   "outputs": [
    {
     "data": {
      "text/plain": [
       "0    3768\n",
       "1    2964\n",
       "Name: Credit Default, dtype: int64"
      ]
     },
     "execution_count": 37,
     "metadata": {},
     "output_type": "execute_result"
    }
   ],
   "source": [
    "df_for_balancing = pd.concat([X_train, y_train], axis=1)\n",
    "df_balanced = balance_df_by_target(df_for_balancing, TARGET_NAME)\n",
    "    \n",
    "df_balanced[TARGET_NAME].value_counts()"
   ]
  },
  {
   "cell_type": "code",
   "execution_count": 38,
   "metadata": {
    "execution": {
     "iopub.execute_input": "2021-03-04T15:42:55.817271Z",
     "iopub.status.busy": "2021-03-04T15:42:55.816339Z",
     "iopub.status.idle": "2021-03-04T15:42:55.819587Z",
     "shell.execute_reply": "2021-03-04T15:42:55.819075Z"
    },
    "papermill": {
     "duration": 0.074942,
     "end_time": "2021-03-04T15:42:55.819741",
     "exception": false,
     "start_time": "2021-03-04T15:42:55.744799",
     "status": "completed"
    },
    "tags": []
   },
   "outputs": [],
   "source": [
    "X_train = df_balanced.drop(columns=TARGET_NAME)\n",
    "y_train = df_balanced[TARGET_NAME]"
   ]
  },
  {
   "cell_type": "markdown",
   "metadata": {
    "papermill": {
     "duration": 0.06417,
     "end_time": "2021-03-04T15:42:55.948735",
     "exception": false,
     "start_time": "2021-03-04T15:42:55.884565",
     "status": "completed"
    },
    "tags": []
   },
   "source": [
    "**LogisticRegression**"
   ]
  },
  {
   "cell_type": "code",
   "execution_count": 39,
   "metadata": {
    "execution": {
     "iopub.execute_input": "2021-03-04T15:42:56.087256Z",
     "iopub.status.busy": "2021-03-04T15:42:56.086567Z",
     "iopub.status.idle": "2021-03-04T15:42:56.207947Z",
     "shell.execute_reply": "2021-03-04T15:42:56.207269Z"
    },
    "papermill": {
     "duration": 0.194185,
     "end_time": "2021-03-04T15:42:56.208115",
     "exception": false,
     "start_time": "2021-03-04T15:42:56.013930",
     "status": "completed"
    },
    "tags": []
   },
   "outputs": [
    {
     "name": "stdout",
     "output_type": "stream",
     "text": [
      "TRAIN\n",
      "\n",
      "              precision    recall  f1-score   support\n",
      "\n",
      "           0       0.64      0.81      0.71      3768\n",
      "           1       0.63      0.42      0.51      2964\n",
      "\n",
      "    accuracy                           0.64      6732\n",
      "   macro avg       0.64      0.61      0.61      6732\n",
      "weighted avg       0.64      0.64      0.62      6732\n",
      "\n",
      "TEST\n",
      "\n",
      "              precision    recall  f1-score   support\n",
      "\n",
      "           0       0.78      0.82      0.80      1619\n",
      "           1       0.47      0.41      0.44       631\n",
      "\n",
      "    accuracy                           0.71      2250\n",
      "   macro avg       0.63      0.62      0.62      2250\n",
      "weighted avg       0.69      0.71      0.70      2250\n",
      "\n",
      "CONFUSION MATRIX\n",
      "\n",
      "col_0              0    1\n",
      "Credit Default           \n",
      "0               1328  291\n",
      "1                372  259\n"
     ]
    }
   ],
   "source": [
    "model_lr = LogisticRegression()\n",
    "model_lr.fit(X_train, y_train)\n",
    "\n",
    "y_train_pred = model_lr.predict(X_train)\n",
    "y_test_pred = model_lr.predict(X_test)\n",
    "\n",
    "get_classification_report(y_train, y_train_pred, y_test, y_test_pred)"
   ]
  },
  {
   "cell_type": "markdown",
   "metadata": {
    "papermill": {
     "duration": 0.065294,
     "end_time": "2021-03-04T15:42:56.339002",
     "exception": false,
     "start_time": "2021-03-04T15:42:56.273708",
     "status": "completed"
    },
    "tags": []
   },
   "source": [
    "**k ближайших соседей**"
   ]
  },
  {
   "cell_type": "code",
   "execution_count": 40,
   "metadata": {
    "execution": {
     "iopub.execute_input": "2021-03-04T15:42:56.480571Z",
     "iopub.status.busy": "2021-03-04T15:42:56.479850Z",
     "iopub.status.idle": "2021-03-04T15:42:58.766272Z",
     "shell.execute_reply": "2021-03-04T15:42:58.765518Z"
    },
    "papermill": {
     "duration": 2.361557,
     "end_time": "2021-03-04T15:42:58.766433",
     "exception": false,
     "start_time": "2021-03-04T15:42:56.404876",
     "status": "completed"
    },
    "tags": []
   },
   "outputs": [
    {
     "name": "stdout",
     "output_type": "stream",
     "text": [
      "TRAIN\n",
      "\n",
      "              precision    recall  f1-score   support\n",
      "\n",
      "           0       0.76      0.81      0.78      3768\n",
      "           1       0.74      0.67      0.70      2964\n",
      "\n",
      "    accuracy                           0.75      6732\n",
      "   macro avg       0.75      0.74      0.74      6732\n",
      "weighted avg       0.75      0.75      0.75      6732\n",
      "\n",
      "TEST\n",
      "\n",
      "              precision    recall  f1-score   support\n",
      "\n",
      "           0       0.75      0.71      0.73      1619\n",
      "           1       0.35      0.39      0.37       631\n",
      "\n",
      "    accuracy                           0.62      2250\n",
      "   macro avg       0.55      0.55      0.55      2250\n",
      "weighted avg       0.64      0.62      0.63      2250\n",
      "\n",
      "CONFUSION MATRIX\n",
      "\n",
      "col_0              0    1\n",
      "Credit Default           \n",
      "0               1157  462\n",
      "1                386  245\n"
     ]
    }
   ],
   "source": [
    "model_knn = KNeighborsClassifier()\n",
    "model_knn.fit(X_train, y_train)\n",
    "\n",
    "y_train_pred = model_knn.predict(X_train)\n",
    "y_test_pred = model_knn.predict(X_test)\n",
    "\n",
    "get_classification_report(y_train, y_train_pred, y_test, y_test_pred)"
   ]
  },
  {
   "cell_type": "markdown",
   "metadata": {
    "papermill": {
     "duration": 0.068772,
     "end_time": "2021-03-04T15:42:58.908295",
     "exception": false,
     "start_time": "2021-03-04T15:42:58.839523",
     "status": "completed"
    },
    "tags": []
   },
   "source": [
    "**XGBoost**"
   ]
  },
  {
   "cell_type": "code",
   "execution_count": 41,
   "metadata": {
    "execution": {
     "iopub.execute_input": "2021-03-04T15:42:59.050074Z",
     "iopub.status.busy": "2021-03-04T15:42:59.049011Z",
     "iopub.status.idle": "2021-03-04T15:42:59.908899Z",
     "shell.execute_reply": "2021-03-04T15:42:59.908095Z"
    },
    "papermill": {
     "duration": 0.934913,
     "end_time": "2021-03-04T15:42:59.909123",
     "exception": false,
     "start_time": "2021-03-04T15:42:58.974210",
     "status": "completed"
    },
    "tags": []
   },
   "outputs": [
    {
     "name": "stdout",
     "output_type": "stream",
     "text": [
      "[15:42:59] WARNING: ../src/learner.cc:1061: Starting in XGBoost 1.3.0, the default evaluation metric used with the objective 'binary:logistic' was changed from 'error' to 'logloss'. Explicitly set eval_metric if you'd like to restore the old behavior.\n",
      "TRAIN\n",
      "\n",
      "              precision    recall  f1-score   support\n",
      "\n",
      "           0       0.98      0.99      0.98      3768\n",
      "           1       0.98      0.98      0.98      2964\n",
      "\n",
      "    accuracy                           0.98      6732\n",
      "   macro avg       0.98      0.98      0.98      6732\n",
      "weighted avg       0.98      0.98      0.98      6732\n",
      "\n",
      "TEST\n",
      "\n",
      "              precision    recall  f1-score   support\n",
      "\n",
      "           0       0.80      0.84      0.82      1619\n",
      "           1       0.53      0.45      0.49       631\n",
      "\n",
      "    accuracy                           0.73      2250\n",
      "   macro avg       0.66      0.65      0.65      2250\n",
      "weighted avg       0.72      0.73      0.73      2250\n",
      "\n",
      "CONFUSION MATRIX\n",
      "\n",
      "col_0              0    1\n",
      "Credit Default           \n",
      "0               1365  254\n",
      "1                346  285\n"
     ]
    }
   ],
   "source": [
    "model_xgb = xgb.XGBClassifier(random_state=11)\n",
    "model_xgb.fit(X_train, y_train)\n",
    "\n",
    "y_train_pred = model_xgb.predict(X_train)\n",
    "y_test_pred = model_xgb.predict(X_test)\n",
    "\n",
    "get_classification_report(y_train, y_train_pred, y_test, y_test_pred)"
   ]
  },
  {
   "cell_type": "markdown",
   "metadata": {
    "papermill": {
     "duration": 0.066284,
     "end_time": "2021-03-04T15:43:00.045020",
     "exception": false,
     "start_time": "2021-03-04T15:42:59.978736",
     "status": "completed"
    },
    "tags": []
   },
   "source": [
    "**LightGBM**"
   ]
  },
  {
   "cell_type": "code",
   "execution_count": 42,
   "metadata": {
    "execution": {
     "iopub.execute_input": "2021-03-04T15:43:00.183814Z",
     "iopub.status.busy": "2021-03-04T15:43:00.183107Z",
     "iopub.status.idle": "2021-03-04T15:43:00.453218Z",
     "shell.execute_reply": "2021-03-04T15:43:00.452321Z"
    },
    "papermill": {
     "duration": 0.341113,
     "end_time": "2021-03-04T15:43:00.453431",
     "exception": false,
     "start_time": "2021-03-04T15:43:00.112318",
     "status": "completed"
    },
    "tags": []
   },
   "outputs": [
    {
     "name": "stdout",
     "output_type": "stream",
     "text": [
      "TRAIN\n",
      "\n",
      "              precision    recall  f1-score   support\n",
      "\n",
      "           0       0.91      0.95      0.93      3768\n",
      "           1       0.94      0.88      0.91      2964\n",
      "\n",
      "    accuracy                           0.92      6732\n",
      "   macro avg       0.92      0.92      0.92      6732\n",
      "weighted avg       0.92      0.92      0.92      6732\n",
      "\n",
      "TEST\n",
      "\n",
      "              precision    recall  f1-score   support\n",
      "\n",
      "           0       0.80      0.85      0.83      1619\n",
      "           1       0.55      0.46      0.50       631\n",
      "\n",
      "    accuracy                           0.74      2250\n",
      "   macro avg       0.67      0.65      0.66      2250\n",
      "weighted avg       0.73      0.74      0.73      2250\n",
      "\n",
      "CONFUSION MATRIX\n",
      "\n",
      "col_0              0    1\n",
      "Credit Default           \n",
      "0               1380  239\n",
      "1                343  288\n"
     ]
    }
   ],
   "source": [
    "model_lgbm = lgbm.LGBMClassifier(random_state=11)\n",
    "model_lgbm.fit(X_train, y_train)\n",
    "\n",
    "y_train_pred = model_lgbm.predict(X_train)\n",
    "y_test_pred = model_lgbm.predict(X_test)\n",
    "\n",
    "get_classification_report(y_train, y_train_pred, y_test, y_test_pred)"
   ]
  },
  {
   "cell_type": "markdown",
   "metadata": {
    "papermill": {
     "duration": 0.068674,
     "end_time": "2021-03-04T15:43:00.589954",
     "exception": false,
     "start_time": "2021-03-04T15:43:00.521280",
     "status": "completed"
    },
    "tags": []
   },
   "source": [
    "**CatBoost**"
   ]
  },
  {
   "cell_type": "code",
   "execution_count": 43,
   "metadata": {
    "execution": {
     "iopub.execute_input": "2021-03-04T15:43:00.752061Z",
     "iopub.status.busy": "2021-03-04T15:43:00.738904Z",
     "iopub.status.idle": "2021-03-04T15:43:06.044394Z",
     "shell.execute_reply": "2021-03-04T15:43:06.044937Z"
    },
    "papermill": {
     "duration": 5.38811,
     "end_time": "2021-03-04T15:43:06.045152",
     "exception": false,
     "start_time": "2021-03-04T15:43:00.657042",
     "status": "completed"
    },
    "tags": []
   },
   "outputs": [
    {
     "name": "stdout",
     "output_type": "stream",
     "text": [
      "TRAIN\n",
      "\n",
      "              precision    recall  f1-score   support\n",
      "\n",
      "           0       0.88      0.95      0.91      3768\n",
      "           1       0.93      0.83      0.87      2964\n",
      "\n",
      "    accuracy                           0.89      6732\n",
      "   macro avg       0.90      0.89      0.89      6732\n",
      "weighted avg       0.90      0.89      0.89      6732\n",
      "\n",
      "TEST\n",
      "\n",
      "              precision    recall  f1-score   support\n",
      "\n",
      "           0       0.80      0.86      0.83      1619\n",
      "           1       0.54      0.43      0.48       631\n",
      "\n",
      "    accuracy                           0.74      2250\n",
      "   macro avg       0.67      0.65      0.65      2250\n",
      "weighted avg       0.72      0.74      0.73      2250\n",
      "\n",
      "CONFUSION MATRIX\n",
      "\n",
      "col_0              0    1\n",
      "Credit Default           \n",
      "0               1389  230\n",
      "1                358  273\n"
     ]
    }
   ],
   "source": [
    "model_catb = catb.CatBoostClassifier(silent=True, random_state=11)\n",
    "model_catb.fit(X_train, y_train)\n",
    "\n",
    "y_train_pred = model_catb.predict(X_train)\n",
    "y_test_pred = model_catb.predict(X_test)\n",
    "\n",
    "get_classification_report(y_train, y_train_pred, y_test, y_test_pred)"
   ]
  },
  {
   "cell_type": "markdown",
   "metadata": {
    "papermill": {
     "duration": 0.06853,
     "end_time": "2021-03-04T15:43:06.181556",
     "exception": false,
     "start_time": "2021-03-04T15:43:06.113026",
     "status": "completed"
    },
    "tags": []
   },
   "source": [
    "### Выбор наилучшей модели, настройка гиперпараметров"
   ]
  },
  {
   "cell_type": "code",
   "execution_count": 44,
   "metadata": {
    "execution": {
     "iopub.execute_input": "2021-03-04T15:43:06.320230Z",
     "iopub.status.busy": "2021-03-04T15:43:06.319500Z",
     "iopub.status.idle": "2021-03-04T15:43:06.323681Z",
     "shell.execute_reply": "2021-03-04T15:43:06.324204Z"
    },
    "papermill": {
     "duration": 0.075325,
     "end_time": "2021-03-04T15:43:06.324407",
     "exception": false,
     "start_time": "2021-03-04T15:43:06.249082",
     "status": "completed"
    },
    "tags": []
   },
   "outputs": [],
   "source": [
    "model_catb = catb.CatBoostClassifier(class_weights=[1, 3.5], silent=True, random_state=11)"
   ]
  },
  {
   "cell_type": "markdown",
   "metadata": {
    "papermill": {
     "duration": 0.068346,
     "end_time": "2021-03-04T15:43:06.461746",
     "exception": false,
     "start_time": "2021-03-04T15:43:06.393400",
     "status": "completed"
    },
    "tags": []
   },
   "source": [
    "Подбор параметров"
   ]
  },
  {
   "cell_type": "code",
   "execution_count": 45,
   "metadata": {
    "execution": {
     "iopub.execute_input": "2021-03-04T15:43:06.602877Z",
     "iopub.status.busy": "2021-03-04T15:43:06.602099Z",
     "iopub.status.idle": "2021-03-04T15:43:06.606031Z",
     "shell.execute_reply": "2021-03-04T15:43:06.605384Z"
    },
    "papermill": {
     "duration": 0.076112,
     "end_time": "2021-03-04T15:43:06.606250",
     "exception": false,
     "start_time": "2021-03-04T15:43:06.530138",
     "status": "completed"
    },
    "tags": []
   },
   "outputs": [],
   "source": [
    "params = {'n_estimators':[50, 100, 200, 500, 700, 1000, 1200, 1500],\n",
    "          'max_depth':[3, 5, 7]}"
   ]
  },
  {
   "cell_type": "code",
   "execution_count": 46,
   "metadata": {
    "execution": {
     "iopub.execute_input": "2021-03-04T15:43:06.749309Z",
     "iopub.status.busy": "2021-03-04T15:43:06.748336Z",
     "iopub.status.idle": "2021-03-04T15:43:06.752017Z",
     "shell.execute_reply": "2021-03-04T15:43:06.751340Z"
    },
    "papermill": {
     "duration": 0.077137,
     "end_time": "2021-03-04T15:43:06.752167",
     "exception": false,
     "start_time": "2021-03-04T15:43:06.675030",
     "status": "completed"
    },
    "tags": []
   },
   "outputs": [],
   "source": [
    "cv=KFold(n_splits=3, random_state=11, shuffle=True)"
   ]
  },
  {
   "cell_type": "code",
   "execution_count": 47,
   "metadata": {
    "execution": {
     "iopub.execute_input": "2021-03-04T15:43:06.894667Z",
     "iopub.status.busy": "2021-03-04T15:43:06.893672Z",
     "iopub.status.idle": "2021-03-04T15:44:42.596389Z",
     "shell.execute_reply": "2021-03-04T15:44:42.595561Z"
    },
    "papermill": {
     "duration": 95.776445,
     "end_time": "2021-03-04T15:44:42.596602",
     "exception": false,
     "start_time": "2021-03-04T15:43:06.820157",
     "status": "completed"
    },
    "tags": []
   },
   "outputs": [
    {
     "name": "stdout",
     "output_type": "stream",
     "text": [
      "CPU times: user 4.91 s, sys: 532 ms, total: 5.45 s\n",
      "Wall time: 1min 35s\n"
     ]
    },
    {
     "data": {
      "text/plain": [
       "RandomizedSearchCV(cv=KFold(n_splits=3, random_state=11, shuffle=True),\n",
       "                   estimator=<catboost.core.CatBoostClassifier object at 0x7f2914bad450>,\n",
       "                   n_jobs=-1,\n",
       "                   param_distributions={'max_depth': [3, 5, 7],\n",
       "                                        'n_estimators': [50, 100, 200, 500, 700,\n",
       "                                                         1000, 1200, 1500]},\n",
       "                   scoring='f1')"
      ]
     },
     "execution_count": 47,
     "metadata": {},
     "output_type": "execute_result"
    }
   ],
   "source": [
    "%%time\n",
    "\n",
    "rs = RandomizedSearchCV(model_catb, params, scoring='f1', cv=cv, n_jobs=-1)\n",
    "rs.fit(X, y)"
   ]
  },
  {
   "cell_type": "code",
   "execution_count": 48,
   "metadata": {
    "execution": {
     "iopub.execute_input": "2021-03-04T15:44:42.740380Z",
     "iopub.status.busy": "2021-03-04T15:44:42.739735Z",
     "iopub.status.idle": "2021-03-04T15:44:42.745184Z",
     "shell.execute_reply": "2021-03-04T15:44:42.745666Z"
    },
    "papermill": {
     "duration": 0.079671,
     "end_time": "2021-03-04T15:44:42.745831",
     "exception": false,
     "start_time": "2021-03-04T15:44:42.666160",
     "status": "completed"
    },
    "tags": []
   },
   "outputs": [
    {
     "data": {
      "text/plain": [
       "{'n_estimators': 700, 'max_depth': 3}"
      ]
     },
     "execution_count": 48,
     "metadata": {},
     "output_type": "execute_result"
    }
   ],
   "source": [
    "rs.best_params_"
   ]
  },
  {
   "cell_type": "code",
   "execution_count": 49,
   "metadata": {
    "execution": {
     "iopub.execute_input": "2021-03-04T15:44:42.890793Z",
     "iopub.status.busy": "2021-03-04T15:44:42.889864Z",
     "iopub.status.idle": "2021-03-04T15:44:42.894588Z",
     "shell.execute_reply": "2021-03-04T15:44:42.893983Z"
    },
    "papermill": {
     "duration": 0.079891,
     "end_time": "2021-03-04T15:44:42.894726",
     "exception": false,
     "start_time": "2021-03-04T15:44:42.814835",
     "status": "completed"
    },
    "tags": []
   },
   "outputs": [
    {
     "data": {
      "text/plain": [
       "0.53558017839801"
      ]
     },
     "execution_count": 49,
     "metadata": {},
     "output_type": "execute_result"
    }
   ],
   "source": [
    "rs.best_score_"
   ]
  },
  {
   "cell_type": "markdown",
   "metadata": {
    "papermill": {
     "duration": 0.070701,
     "end_time": "2021-03-04T15:44:43.035072",
     "exception": false,
     "start_time": "2021-03-04T15:44:42.964371",
     "status": "completed"
    },
    "tags": []
   },
   "source": [
    "Проверка качества, борьба с переобучением"
   ]
  },
  {
   "cell_type": "code",
   "execution_count": 50,
   "metadata": {
    "execution": {
     "iopub.execute_input": "2021-03-04T15:44:43.185537Z",
     "iopub.status.busy": "2021-03-04T15:44:43.184761Z",
     "iopub.status.idle": "2021-03-04T15:44:48.393031Z",
     "shell.execute_reply": "2021-03-04T15:44:48.392459Z"
    },
    "papermill": {
     "duration": 5.288546,
     "end_time": "2021-03-04T15:44:48.393176",
     "exception": false,
     "start_time": "2021-03-04T15:44:43.104630",
     "status": "completed"
    },
    "tags": []
   },
   "outputs": [
    {
     "name": "stdout",
     "output_type": "stream",
     "text": [
      "TRAIN\n",
      "\n",
      "              precision    recall  f1-score   support\n",
      "\n",
      "           0       0.75      0.88      0.81      3768\n",
      "           1       0.80      0.63      0.70      2964\n",
      "\n",
      "    accuracy                           0.77      6732\n",
      "   macro avg       0.77      0.75      0.75      6732\n",
      "weighted avg       0.77      0.77      0.76      6732\n",
      "\n",
      "TEST\n",
      "\n",
      "              precision    recall  f1-score   support\n",
      "\n",
      "           0       0.81      0.84      0.82      1619\n",
      "           1       0.54      0.48      0.51       631\n",
      "\n",
      "    accuracy                           0.74      2250\n",
      "   macro avg       0.67      0.66      0.67      2250\n",
      "weighted avg       0.73      0.74      0.74      2250\n",
      "\n",
      "CONFUSION MATRIX\n",
      "\n",
      "col_0              0    1\n",
      "Credit Default           \n",
      "0               1365  254\n",
      "1                329  302\n",
      "CPU times: user 9.5 s, sys: 904 ms, total: 10.4 s\n",
      "Wall time: 5.21 s\n"
     ]
    }
   ],
   "source": [
    "%%time\n",
    "\n",
    "final_model = catb.CatBoostClassifier(n_estimators=1500, max_depth=3,\n",
    "                                      silent=True, random_state=11)\n",
    "final_model.fit(X_train, y_train)\n",
    "\n",
    "y_train_pred = final_model.predict(X_train)\n",
    "y_test_pred = final_model.predict(X_test)\n",
    "\n",
    "get_classification_report(y_train, y_train_pred, y_test, y_test_pred)"
   ]
  },
  {
   "cell_type": "markdown",
   "metadata": {
    "papermill": {
     "duration": 0.070659,
     "end_time": "2021-03-04T15:44:48.534055",
     "exception": false,
     "start_time": "2021-03-04T15:44:48.463396",
     "status": "completed"
    },
    "tags": []
   },
   "source": [
    "Подготовка тестового датасета"
   ]
  },
  {
   "cell_type": "code",
   "execution_count": 51,
   "metadata": {
    "execution": {
     "iopub.execute_input": "2021-03-04T15:44:48.691861Z",
     "iopub.status.busy": "2021-03-04T15:44:48.686985Z",
     "iopub.status.idle": "2021-03-04T15:44:48.700624Z",
     "shell.execute_reply": "2021-03-04T15:44:48.700038Z"
    },
    "papermill": {
     "duration": 0.096174,
     "end_time": "2021-03-04T15:44:48.700779",
     "exception": false,
     "start_time": "2021-03-04T15:44:48.604605",
     "status": "completed"
    },
    "tags": []
   },
   "outputs": [],
   "source": [
    "# Добавляется признак has_delay, всем наблюдениям присваивается 1\n",
    "df_test['has_delay'] = 1\n",
    "\n",
    "# Заменяется NaN на 0 в 'Months since last delinquent'\n",
    "df_test['Months since last delinquent'].fillna(0, inplace=True)\n",
    "\n",
    "# По отсутствующей задолженности присваивается 0 в has_delay\n",
    "df_test.loc[(df_test['Months since last delinquent'] == 0), 'has_delay'] = 0\n",
    "\n",
    "# Добавляется признак unknown_income, всем наблюдениям присваивается 0\n",
    "df_test['unknown_income'] = 0\n",
    "\n",
    "# В annual_income_median записываеся медианное значение дохода\n",
    "annual_income_median = df_test['Annual Income'].median()\n",
    "\n",
    "# В unknown_income по неизвестному доходу присваивается 1 \n",
    "df_test.loc[(df_test['Annual Income'].isnull()), 'unknown_income'] = 1\n",
    "\n",
    "# Пропуски дохода заполняются медианными значениями\n",
    "df_test['Annual Income'].fillna(annual_income_median, inplace=True)\n",
    "\n",
    "# Добавляется признак unknown_credit_score, всем наблюдениям присваивается 0\n",
    "df_test['unknown_credit_score'] = 0\n",
    "NEW_FEATURE_NAMES = ['has_delay','unknown_income','unknown_credit_score']\n",
    "\n",
    "# В credit_score_median записываю медианное значение рейтинга\n",
    "credit_score_median = df_test['Credit Score'].median()\n",
    "\n",
    "# В unknown_credit_score по неизвестному рейтингу присваивается 1 \n",
    "df_test.loc[(df_test['Credit Score'].isnull()), 'unknown_credit_score'] = 1\n",
    "\n",
    "# Пропуски рейтинга заменяются медианными значениями\n",
    "df_test['Credit Score'].fillna(credit_score_median, inplace=True)\n",
    "\n",
    "# Уникальные значения поля Years in current job\n",
    "unique_years_in_current_job = df_test['Years in current job'].unique()\n",
    "\n",
    "var_experiance = unique_years_in_current_job[1:]\n",
    "\n",
    "# NaN заменяются рандомными значениями трудового стажа\n",
    "df_test['Years in current job'].fillna(random.choice(var_experiance), inplace=True)\n",
    "\n",
    "# 99999999.0 в Current Loan Amount заменяются на медианные\n",
    "median_current_loan_amount = df_test['Current Loan Amount'].median()\n",
    "df_test.loc[(df_test['Current Loan Amount'] == 99999999.0), 'Current Loan Amount'] = median_current_loan_amount\n",
    "\n",
    "df_test['term_binary'] = df_test['Term'].map({'Short Term':'1', 'Long Term':'0'}).astype(int)"
   ]
  },
  {
   "cell_type": "code",
   "execution_count": 52,
   "metadata": {
    "execution": {
     "iopub.execute_input": "2021-03-04T15:44:48.854336Z",
     "iopub.status.busy": "2021-03-04T15:44:48.846680Z",
     "iopub.status.idle": "2021-03-04T15:44:48.880383Z",
     "shell.execute_reply": "2021-03-04T15:44:48.879691Z"
    },
    "papermill": {
     "duration": 0.10901,
     "end_time": "2021-03-04T15:44:48.880537",
     "exception": false,
     "start_time": "2021-03-04T15:44:48.771527",
     "status": "completed"
    },
    "tags": []
   },
   "outputs": [
    {
     "data": {
      "text/html": [
       "<div>\n",
       "<style scoped>\n",
       "    .dataframe tbody tr th:only-of-type {\n",
       "        vertical-align: middle;\n",
       "    }\n",
       "\n",
       "    .dataframe tbody tr th {\n",
       "        vertical-align: top;\n",
       "    }\n",
       "\n",
       "    .dataframe thead th {\n",
       "        text-align: right;\n",
       "    }\n",
       "</style>\n",
       "<table border=\"1\" class=\"dataframe\">\n",
       "  <thead>\n",
       "    <tr style=\"text-align: right;\">\n",
       "      <th></th>\n",
       "      <th>Annual Income</th>\n",
       "      <th>Tax Liens</th>\n",
       "      <th>Number of Open Accounts</th>\n",
       "      <th>Years of Credit History</th>\n",
       "      <th>Maximum Open Credit</th>\n",
       "      <th>Number of Credit Problems</th>\n",
       "      <th>Months since last delinquent</th>\n",
       "      <th>Bankruptcies</th>\n",
       "      <th>Current Loan Amount</th>\n",
       "      <th>Current Credit Balance</th>\n",
       "      <th>Monthly Debt</th>\n",
       "      <th>Credit Score</th>\n",
       "      <th>has_delay</th>\n",
       "      <th>unknown_income</th>\n",
       "      <th>unknown_credit_score</th>\n",
       "      <th>term_binary</th>\n",
       "    </tr>\n",
       "  </thead>\n",
       "  <tbody>\n",
       "    <tr>\n",
       "      <th>0</th>\n",
       "      <td>1178475.0</td>\n",
       "      <td>0.0</td>\n",
       "      <td>9.0</td>\n",
       "      <td>12.5</td>\n",
       "      <td>220968.0</td>\n",
       "      <td>0.0</td>\n",
       "      <td>70.0</td>\n",
       "      <td>0.0</td>\n",
       "      <td>162470.0</td>\n",
       "      <td>105906.0</td>\n",
       "      <td>6813.0</td>\n",
       "      <td>731.0</td>\n",
       "      <td>1</td>\n",
       "      <td>1</td>\n",
       "      <td>1</td>\n",
       "      <td>1</td>\n",
       "    </tr>\n",
       "    <tr>\n",
       "      <th>1</th>\n",
       "      <td>231838.0</td>\n",
       "      <td>0.0</td>\n",
       "      <td>6.0</td>\n",
       "      <td>32.7</td>\n",
       "      <td>55946.0</td>\n",
       "      <td>0.0</td>\n",
       "      <td>8.0</td>\n",
       "      <td>0.0</td>\n",
       "      <td>78298.0</td>\n",
       "      <td>46037.0</td>\n",
       "      <td>2318.0</td>\n",
       "      <td>699.0</td>\n",
       "      <td>1</td>\n",
       "      <td>0</td>\n",
       "      <td>0</td>\n",
       "      <td>1</td>\n",
       "    </tr>\n",
       "    <tr>\n",
       "      <th>2</th>\n",
       "      <td>1152540.0</td>\n",
       "      <td>0.0</td>\n",
       "      <td>10.0</td>\n",
       "      <td>13.7</td>\n",
       "      <td>204600.0</td>\n",
       "      <td>0.0</td>\n",
       "      <td>0.0</td>\n",
       "      <td>0.0</td>\n",
       "      <td>200178.0</td>\n",
       "      <td>146490.0</td>\n",
       "      <td>18729.0</td>\n",
       "      <td>7260.0</td>\n",
       "      <td>0</td>\n",
       "      <td>0</td>\n",
       "      <td>0</td>\n",
       "      <td>1</td>\n",
       "    </tr>\n",
       "    <tr>\n",
       "      <th>3</th>\n",
       "      <td>1220313.0</td>\n",
       "      <td>0.0</td>\n",
       "      <td>16.0</td>\n",
       "      <td>17.0</td>\n",
       "      <td>456302.0</td>\n",
       "      <td>0.0</td>\n",
       "      <td>70.0</td>\n",
       "      <td>0.0</td>\n",
       "      <td>217382.0</td>\n",
       "      <td>213199.0</td>\n",
       "      <td>27559.0</td>\n",
       "      <td>739.0</td>\n",
       "      <td>1</td>\n",
       "      <td>0</td>\n",
       "      <td>0</td>\n",
       "      <td>1</td>\n",
       "    </tr>\n",
       "    <tr>\n",
       "      <th>4</th>\n",
       "      <td>2340952.0</td>\n",
       "      <td>0.0</td>\n",
       "      <td>11.0</td>\n",
       "      <td>23.6</td>\n",
       "      <td>1207272.0</td>\n",
       "      <td>0.0</td>\n",
       "      <td>0.0</td>\n",
       "      <td>0.0</td>\n",
       "      <td>777634.0</td>\n",
       "      <td>425391.0</td>\n",
       "      <td>42605.0</td>\n",
       "      <td>706.0</td>\n",
       "      <td>0</td>\n",
       "      <td>0</td>\n",
       "      <td>0</td>\n",
       "      <td>0</td>\n",
       "    </tr>\n",
       "    <tr>\n",
       "      <th>5</th>\n",
       "      <td>922583.0</td>\n",
       "      <td>0.0</td>\n",
       "      <td>26.0</td>\n",
       "      <td>17.5</td>\n",
       "      <td>713174.0</td>\n",
       "      <td>0.0</td>\n",
       "      <td>41.0</td>\n",
       "      <td>0.0</td>\n",
       "      <td>94028.0</td>\n",
       "      <td>135508.0</td>\n",
       "      <td>11148.0</td>\n",
       "      <td>679.0</td>\n",
       "      <td>1</td>\n",
       "      <td>0</td>\n",
       "      <td>0</td>\n",
       "      <td>1</td>\n",
       "    </tr>\n",
       "    <tr>\n",
       "      <th>6</th>\n",
       "      <td>1233309.0</td>\n",
       "      <td>0.0</td>\n",
       "      <td>7.0</td>\n",
       "      <td>22.0</td>\n",
       "      <td>376420.0</td>\n",
       "      <td>0.0</td>\n",
       "      <td>43.0</td>\n",
       "      <td>0.0</td>\n",
       "      <td>454388.0</td>\n",
       "      <td>292904.0</td>\n",
       "      <td>8181.0</td>\n",
       "      <td>685.0</td>\n",
       "      <td>1</td>\n",
       "      <td>0</td>\n",
       "      <td>0</td>\n",
       "      <td>1</td>\n",
       "    </tr>\n",
       "    <tr>\n",
       "      <th>7</th>\n",
       "      <td>1215867.0</td>\n",
       "      <td>0.0</td>\n",
       "      <td>13.0</td>\n",
       "      <td>12.2</td>\n",
       "      <td>195888.0</td>\n",
       "      <td>0.0</td>\n",
       "      <td>19.0</td>\n",
       "      <td>0.0</td>\n",
       "      <td>407726.0</td>\n",
       "      <td>120099.0</td>\n",
       "      <td>7599.0</td>\n",
       "      <td>701.0</td>\n",
       "      <td>1</td>\n",
       "      <td>0</td>\n",
       "      <td>0</td>\n",
       "      <td>1</td>\n",
       "    </tr>\n",
       "    <tr>\n",
       "      <th>8</th>\n",
       "      <td>1178475.0</td>\n",
       "      <td>0.0</td>\n",
       "      <td>8.0</td>\n",
       "      <td>9.1</td>\n",
       "      <td>370524.0</td>\n",
       "      <td>0.0</td>\n",
       "      <td>0.0</td>\n",
       "      <td>0.0</td>\n",
       "      <td>131956.0</td>\n",
       "      <td>237747.0</td>\n",
       "      <td>10112.0</td>\n",
       "      <td>731.0</td>\n",
       "      <td>0</td>\n",
       "      <td>1</td>\n",
       "      <td>1</td>\n",
       "      <td>1</td>\n",
       "    </tr>\n",
       "    <tr>\n",
       "      <th>9</th>\n",
       "      <td>2140445.0</td>\n",
       "      <td>1.0</td>\n",
       "      <td>15.0</td>\n",
       "      <td>16.7</td>\n",
       "      <td>867680.0</td>\n",
       "      <td>1.0</td>\n",
       "      <td>9.0</td>\n",
       "      <td>0.0</td>\n",
       "      <td>391336.0</td>\n",
       "      <td>294500.0</td>\n",
       "      <td>18372.0</td>\n",
       "      <td>745.0</td>\n",
       "      <td>1</td>\n",
       "      <td>0</td>\n",
       "      <td>0</td>\n",
       "      <td>1</td>\n",
       "    </tr>\n",
       "  </tbody>\n",
       "</table>\n",
       "</div>"
      ],
      "text/plain": [
       "   Annual Income  Tax Liens  Number of Open Accounts  Years of Credit History  \\\n",
       "0      1178475.0        0.0                      9.0                     12.5   \n",
       "1       231838.0        0.0                      6.0                     32.7   \n",
       "2      1152540.0        0.0                     10.0                     13.7   \n",
       "3      1220313.0        0.0                     16.0                     17.0   \n",
       "4      2340952.0        0.0                     11.0                     23.6   \n",
       "5       922583.0        0.0                     26.0                     17.5   \n",
       "6      1233309.0        0.0                      7.0                     22.0   \n",
       "7      1215867.0        0.0                     13.0                     12.2   \n",
       "8      1178475.0        0.0                      8.0                      9.1   \n",
       "9      2140445.0        1.0                     15.0                     16.7   \n",
       "\n",
       "   Maximum Open Credit  Number of Credit Problems  \\\n",
       "0             220968.0                        0.0   \n",
       "1              55946.0                        0.0   \n",
       "2             204600.0                        0.0   \n",
       "3             456302.0                        0.0   \n",
       "4            1207272.0                        0.0   \n",
       "5             713174.0                        0.0   \n",
       "6             376420.0                        0.0   \n",
       "7             195888.0                        0.0   \n",
       "8             370524.0                        0.0   \n",
       "9             867680.0                        1.0   \n",
       "\n",
       "   Months since last delinquent  Bankruptcies  Current Loan Amount  \\\n",
       "0                          70.0           0.0             162470.0   \n",
       "1                           8.0           0.0              78298.0   \n",
       "2                           0.0           0.0             200178.0   \n",
       "3                          70.0           0.0             217382.0   \n",
       "4                           0.0           0.0             777634.0   \n",
       "5                          41.0           0.0              94028.0   \n",
       "6                          43.0           0.0             454388.0   \n",
       "7                          19.0           0.0             407726.0   \n",
       "8                           0.0           0.0             131956.0   \n",
       "9                           9.0           0.0             391336.0   \n",
       "\n",
       "   Current Credit Balance  Monthly Debt  Credit Score  has_delay  \\\n",
       "0                105906.0        6813.0         731.0          1   \n",
       "1                 46037.0        2318.0         699.0          1   \n",
       "2                146490.0       18729.0        7260.0          0   \n",
       "3                213199.0       27559.0         739.0          1   \n",
       "4                425391.0       42605.0         706.0          0   \n",
       "5                135508.0       11148.0         679.0          1   \n",
       "6                292904.0        8181.0         685.0          1   \n",
       "7                120099.0        7599.0         701.0          1   \n",
       "8                237747.0       10112.0         731.0          0   \n",
       "9                294500.0       18372.0         745.0          1   \n",
       "\n",
       "   unknown_income  unknown_credit_score  term_binary  \n",
       "0               1                     1            1  \n",
       "1               0                     0            1  \n",
       "2               0                     0            1  \n",
       "3               0                     0            1  \n",
       "4               0                     0            0  \n",
       "5               0                     0            1  \n",
       "6               0                     0            1  \n",
       "7               0                     0            1  \n",
       "8               1                     1            1  \n",
       "9               0                     0            1  "
      ]
     },
     "execution_count": 52,
     "metadata": {},
     "output_type": "execute_result"
    }
   ],
   "source": [
    "df_for_model = df_test[SELECTED_FEATURE_NAMES]\n",
    "df_for_model.head(10)"
   ]
  },
  {
   "cell_type": "code",
   "execution_count": 53,
   "metadata": {
    "execution": {
     "iopub.execute_input": "2021-03-04T15:44:49.031612Z",
     "iopub.status.busy": "2021-03-04T15:44:49.030794Z",
     "iopub.status.idle": "2021-03-04T15:44:49.039041Z",
     "shell.execute_reply": "2021-03-04T15:44:49.037839Z"
    },
    "papermill": {
     "duration": 0.086894,
     "end_time": "2021-03-04T15:44:49.039246",
     "exception": false,
     "start_time": "2021-03-04T15:44:48.952352",
     "status": "completed"
    },
    "tags": []
   },
   "outputs": [],
   "source": [
    "y_pred_output = final_model.predict(df_for_model)"
   ]
  },
  {
   "cell_type": "code",
   "execution_count": 54,
   "metadata": {
    "execution": {
     "iopub.execute_input": "2021-03-04T15:44:49.188117Z",
     "iopub.status.busy": "2021-03-04T15:44:49.187044Z",
     "iopub.status.idle": "2021-03-04T15:44:49.191425Z",
     "shell.execute_reply": "2021-03-04T15:44:49.190825Z"
    },
    "papermill": {
     "duration": 0.080836,
     "end_time": "2021-03-04T15:44:49.191657",
     "exception": false,
     "start_time": "2021-03-04T15:44:49.110821",
     "status": "completed"
    },
    "tags": []
   },
   "outputs": [
    {
     "data": {
      "text/plain": [
       "(2500,)"
      ]
     },
     "execution_count": 54,
     "metadata": {},
     "output_type": "execute_result"
    }
   ],
   "source": [
    "y_pred_output.shape"
   ]
  },
  {
   "cell_type": "code",
   "execution_count": 55,
   "metadata": {
    "execution": {
     "iopub.execute_input": "2021-03-04T15:44:49.342116Z",
     "iopub.status.busy": "2021-03-04T15:44:49.341218Z",
     "iopub.status.idle": "2021-03-04T15:44:49.344363Z",
     "shell.execute_reply": "2021-03-04T15:44:49.343669Z"
    },
    "papermill": {
     "duration": 0.081233,
     "end_time": "2021-03-04T15:44:49.344518",
     "exception": false,
     "start_time": "2021-03-04T15:44:49.263285",
     "status": "completed"
    },
    "tags": []
   },
   "outputs": [],
   "source": [
    "result=pd.DataFrame({'Id':np.arange(2500), 'Credit Default': y_pred_output})"
   ]
  },
  {
   "cell_type": "code",
   "execution_count": 56,
   "metadata": {
    "execution": {
     "iopub.execute_input": "2021-03-04T15:44:49.494741Z",
     "iopub.status.busy": "2021-03-04T15:44:49.494097Z",
     "iopub.status.idle": "2021-03-04T15:44:49.506646Z",
     "shell.execute_reply": "2021-03-04T15:44:49.505936Z"
    },
    "papermill": {
     "duration": 0.090215,
     "end_time": "2021-03-04T15:44:49.506794",
     "exception": false,
     "start_time": "2021-03-04T15:44:49.416579",
     "status": "completed"
    },
    "tags": []
   },
   "outputs": [],
   "source": [
    "RESULT_PATH='./KukhtaAV_predictions.csv'\n",
    "result.to_csv(RESULT_PATH, index=False)"
   ]
  },
  {
   "cell_type": "code",
   "execution_count": 57,
   "metadata": {
    "execution": {
     "iopub.execute_input": "2021-03-04T15:44:49.659243Z",
     "iopub.status.busy": "2021-03-04T15:44:49.658313Z",
     "iopub.status.idle": "2021-03-04T15:44:49.673088Z",
     "shell.execute_reply": "2021-03-04T15:44:49.673589Z"
    },
    "papermill": {
     "duration": 0.093202,
     "end_time": "2021-03-04T15:44:49.673781",
     "exception": false,
     "start_time": "2021-03-04T15:44:49.580579",
     "status": "completed"
    },
    "tags": []
   },
   "outputs": [
    {
     "data": {
      "text/html": [
       "<div>\n",
       "<style scoped>\n",
       "    .dataframe tbody tr th:only-of-type {\n",
       "        vertical-align: middle;\n",
       "    }\n",
       "\n",
       "    .dataframe tbody tr th {\n",
       "        vertical-align: top;\n",
       "    }\n",
       "\n",
       "    .dataframe thead th {\n",
       "        text-align: right;\n",
       "    }\n",
       "</style>\n",
       "<table border=\"1\" class=\"dataframe\">\n",
       "  <thead>\n",
       "    <tr style=\"text-align: right;\">\n",
       "      <th></th>\n",
       "      <th>Credit Default</th>\n",
       "    </tr>\n",
       "    <tr>\n",
       "      <th>Id</th>\n",
       "      <th></th>\n",
       "    </tr>\n",
       "  </thead>\n",
       "  <tbody>\n",
       "    <tr>\n",
       "      <th>0</th>\n",
       "      <td>0</td>\n",
       "    </tr>\n",
       "    <tr>\n",
       "      <th>1</th>\n",
       "      <td>0</td>\n",
       "    </tr>\n",
       "    <tr>\n",
       "      <th>2</th>\n",
       "      <td>1</td>\n",
       "    </tr>\n",
       "    <tr>\n",
       "      <th>3</th>\n",
       "      <td>0</td>\n",
       "    </tr>\n",
       "    <tr>\n",
       "      <th>4</th>\n",
       "      <td>0</td>\n",
       "    </tr>\n",
       "    <tr>\n",
       "      <th>...</th>\n",
       "      <td>...</td>\n",
       "    </tr>\n",
       "    <tr>\n",
       "      <th>2495</th>\n",
       "      <td>0</td>\n",
       "    </tr>\n",
       "    <tr>\n",
       "      <th>2496</th>\n",
       "      <td>1</td>\n",
       "    </tr>\n",
       "    <tr>\n",
       "      <th>2497</th>\n",
       "      <td>0</td>\n",
       "    </tr>\n",
       "    <tr>\n",
       "      <th>2498</th>\n",
       "      <td>0</td>\n",
       "    </tr>\n",
       "    <tr>\n",
       "      <th>2499</th>\n",
       "      <td>1</td>\n",
       "    </tr>\n",
       "  </tbody>\n",
       "</table>\n",
       "<p>2500 rows × 1 columns</p>\n",
       "</div>"
      ],
      "text/plain": [
       "      Credit Default\n",
       "Id                  \n",
       "0                  0\n",
       "1                  0\n",
       "2                  1\n",
       "3                  0\n",
       "4                  0\n",
       "...              ...\n",
       "2495               0\n",
       "2496               1\n",
       "2497               0\n",
       "2498               0\n",
       "2499               1\n",
       "\n",
       "[2500 rows x 1 columns]"
      ]
     },
     "execution_count": 57,
     "metadata": {},
     "output_type": "execute_result"
    }
   ],
   "source": [
    "SAMPLE = './KukhtaAV_predictions.csv'\n",
    "df_sample = pd.read_csv(SAMPLE)\n",
    "\n",
    "predictions = pd.DataFrame(index = df_sample['Id'])\n",
    "\n",
    "predictions[TARGET_NAME] = y_pred_output\n",
    "predictions"
   ]
  }
 ],
 "metadata": {
  "kernelspec": {
   "display_name": "Python 3",
   "language": "python",
   "name": "python3"
  },
  "language_info": {
   "codemirror_mode": {
    "name": "ipython",
    "version": 3
   },
   "file_extension": ".py",
   "mimetype": "text/x-python",
   "name": "python",
   "nbconvert_exporter": "python",
   "pygments_lexer": "ipython3",
   "version": "3.7.9"
  },
  "papermill": {
   "default_parameters": {},
   "duration": 133.627251,
   "end_time": "2021-03-04T15:44:50.859693",
   "environment_variables": {},
   "exception": null,
   "input_path": "__notebook__.ipynb",
   "output_path": "__notebook__.ipynb",
   "parameters": {},
   "start_time": "2021-03-04T15:42:37.232442",
   "version": "2.2.2"
  }
 },
 "nbformat": 4,
 "nbformat_minor": 4
}
